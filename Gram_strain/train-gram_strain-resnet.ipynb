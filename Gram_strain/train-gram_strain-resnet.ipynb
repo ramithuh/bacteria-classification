{
 "cells": [
  {
   "cell_type": "code",
   "execution_count": 1,
   "id": "465c02a5-810a-4a51-ae2c-58c3c63ab052",
   "metadata": {
    "tags": []
   },
   "outputs": [],
   "source": [
    "from __future__ import print_function, division\n",
    "\n",
    "import os\n",
    "import time\n",
    "import copy\n",
    "import numpy as np\n",
    "import matplotlib.pyplot as plt\n",
    "\n",
    "\n",
    "import torch\n",
    "import torch.nn as nn\n",
    "import torch.nn.functional as F\n",
    "import torch.optim as optim\n",
    "from torch.optim import lr_scheduler\n",
    "import torchvision\n",
    "from torchvision import datasets, models, transforms\n",
    "from torchsummary import summary\n",
    "from torchmetrics.classification import Accuracy\n",
    "from sklearn.metrics import confusion_matrix\n",
    "import plotly.graph_objs as go\n",
    "\n",
    "import sys\n",
    "sys.path.append('../')\n",
    "\n",
    "from modules.helpers import *\n",
    "from modules.datasets import *\n",
    "from modules.train_utils import train_model\n",
    "from modules.dataloaders import *"
   ]
  },
  {
   "cell_type": "code",
   "execution_count": 2,
   "id": "1c823a4d-5591-4076-a992-be76506a1732",
   "metadata": {},
   "outputs": [],
   "source": [
    "import wandb\n",
    "\n",
    "\n",
    "cfg = {\n",
    "  \"learning_rate\": 0.01,\n",
    "  \"epochs\": 15,\n",
    "  \"pretrained_resnet\": True,\n",
    "  \"img_size\" : 224,\n",
    "  \"n_classes\" : 2,\n",
    "  \"label_type\" : \"gram_strain\",\n",
    "  \"balanced_mode\" : False,\n",
    "  \"expand_channels\" : True,\n",
    "}\n"
   ]
  },
  {
   "cell_type": "code",
   "execution_count": 3,
   "id": "6c4e9c9f-c61f-4ee4-86d4-81a8a5ba040b",
   "metadata": {},
   "outputs": [],
   "source": [
    "data_dir = '/n/holyscratch01/wadduwage_lab/D2NN_QPM_classification/datasets/bacteria/'\n",
    "device = torch.device(\"cuda:0\" if torch.cuda.is_available() else \"cpu\")\n",
    "n_c = cfg['n_classes']"
   ]
  },
  {
   "cell_type": "code",
   "execution_count": 4,
   "id": "482b9a53-4655-4bf9-9ec0-8b8168be7fa4",
   "metadata": {},
   "outputs": [
    {
     "name": "stdout",
     "output_type": "stream",
     "text": [
      "Dataset type train label type: gram_strain -> Loaded 375443 images\n",
      "Dataset type val label type: gram_strain -> Loaded 48562 images\n",
      "Dataset type test label type: gram_strain -> Loaded 48790 images\n"
     ]
    }
   ],
   "source": [
    "dataloaders = {}\n",
    "dataloaders['train'], dataloaders['val'], dataloaders['test'], dataset_sizes =  get_bacteria_dataloaders(cfg['img_size'], 32 , 10, label_type = cfg['label_type'] , balanced_mode = cfg['balanced_mode'],expand_channels = cfg['expand_channels'])\n",
    "\n",
    "class_names = [x for x in range(0, n_c)]\n",
    "\n",
    "if(n_c == 21):\n",
    "    class_names = ['Acinetobacter','B subtilis','E. coli K12','S. aureus','E. coli (CCUG17620)','E. coli (NCTC13441)','E. coli (A2-39)','K. pneumoniae (A2-23)','S. aureus (CCUG35600)','E. coli (101)','E. coli (102)','E. coli (104)','K. pneumoniae (210)','K. pneumoniae (211)','K. pneumoniae (212)','K. pneumoniae (240)','Acinetobacter K12-21','Acinetobacter K48-42','Acinetobacter K55-13','Acinetobacter K57-06','Acinetobacter K71-71']"
   ]
  },
  {
   "cell_type": "code",
   "execution_count": 5,
   "id": "59cd7f9d-1b9d-483d-9a50-e79917a02548",
   "metadata": {},
   "outputs": [],
   "source": [
    "cfg['dataset_sizes'] = dataset_sizes"
   ]
  },
  {
   "cell_type": "code",
   "execution_count": 6,
   "id": "14c33210-5d5a-4182-bc74-2901923bebe9",
   "metadata": {},
   "outputs": [
    {
     "name": "stderr",
     "output_type": "stream",
     "text": [
      "Failed to detect the name of this notebook, you can set it manually with the WANDB_NOTEBOOK_NAME environment variable to enable code saving.\n",
      "\u001b[34m\u001b[1mwandb\u001b[0m: Currently logged in as: \u001b[33mramith\u001b[0m (use `wandb login --relogin` to force relogin)\n"
     ]
    },
    {
     "data": {
      "text/html": [
       "\n",
       "                    Syncing run <strong><a href=\"https://wandb.ai/ramith/bacteria-classification-gram-strain/runs/r4cfme1o\" target=\"_blank\">GramStrain - Resnet 181645133407.8305595</a></strong> to <a href=\"https://wandb.ai/ramith/bacteria-classification-gram-strain\" target=\"_blank\">Weights & Biases</a> (<a href=\"https://docs.wandb.com/integrations/jupyter.html\" target=\"_blank\">docs</a>).<br/>\n",
       "\n",
       "                "
      ],
      "text/plain": [
       "<IPython.core.display.HTML object>"
      ]
     },
     "metadata": {},
     "output_type": "display_data"
    },
    {
     "data": {
      "text/html": [
       "<button onClick=\"this.nextSibling.style.display='block';this.style.display='none';\">Display W&B run</button><iframe src=\"https://wandb.ai/ramith/bacteria-classification-gram-strain/runs/r4cfme1o?jupyter=true\" style=\"border:none;width:100%;height:420px;display:none;\"></iframe>"
      ],
      "text/plain": [
       "<wandb.sdk.wandb_run.Run at 0x2aeecf194c50>"
      ]
     },
     "execution_count": 6,
     "metadata": {},
     "output_type": "execute_result"
    }
   ],
   "source": [
    "exp_name = \"GramStrain - Resnet 18\" + str(time.time())\n",
    "wandb.init(project=\"bacteria-classification-gram-strain\", name = exp_name, config = cfg,  entity=\"ramith\")"
   ]
  },
  {
   "cell_type": "code",
   "execution_count": 7,
   "id": "83ed40d4-d1e9-4570-81ac-7a8e286cfd97",
   "metadata": {},
   "outputs": [],
   "source": [
    "model_ft = models.resnet18(pretrained=wandb.config['pretrained_resnet'])\n",
    "\n",
    "num_ftrs = model_ft.fc.in_features\n",
    "\n",
    "model_ft.fc = nn.Linear(num_ftrs, n_c)\n",
    "\n",
    "model_ft = model_ft.to(device)"
   ]
  },
  {
   "cell_type": "code",
   "execution_count": 8,
   "id": "bdac2171-e638-4e36-a929-ec07f56e41d3",
   "metadata": {},
   "outputs": [
    {
     "name": "stdout",
     "output_type": "stream",
     "text": [
      "----------------------------------------------------------------\n",
      "        Layer (type)               Output Shape         Param #\n",
      "================================================================\n",
      "            Conv2d-1         [-1, 64, 112, 112]           9,408\n",
      "       BatchNorm2d-2         [-1, 64, 112, 112]             128\n",
      "              ReLU-3         [-1, 64, 112, 112]               0\n",
      "         MaxPool2d-4           [-1, 64, 56, 56]               0\n",
      "            Conv2d-5           [-1, 64, 56, 56]          36,864\n",
      "       BatchNorm2d-6           [-1, 64, 56, 56]             128\n",
      "              ReLU-7           [-1, 64, 56, 56]               0\n",
      "            Conv2d-8           [-1, 64, 56, 56]          36,864\n",
      "       BatchNorm2d-9           [-1, 64, 56, 56]             128\n",
      "             ReLU-10           [-1, 64, 56, 56]               0\n",
      "       BasicBlock-11           [-1, 64, 56, 56]               0\n",
      "           Conv2d-12           [-1, 64, 56, 56]          36,864\n",
      "      BatchNorm2d-13           [-1, 64, 56, 56]             128\n",
      "             ReLU-14           [-1, 64, 56, 56]               0\n",
      "           Conv2d-15           [-1, 64, 56, 56]          36,864\n",
      "      BatchNorm2d-16           [-1, 64, 56, 56]             128\n",
      "             ReLU-17           [-1, 64, 56, 56]               0\n",
      "       BasicBlock-18           [-1, 64, 56, 56]               0\n",
      "           Conv2d-19          [-1, 128, 28, 28]          73,728\n",
      "      BatchNorm2d-20          [-1, 128, 28, 28]             256\n",
      "             ReLU-21          [-1, 128, 28, 28]               0\n",
      "           Conv2d-22          [-1, 128, 28, 28]         147,456\n",
      "      BatchNorm2d-23          [-1, 128, 28, 28]             256\n",
      "           Conv2d-24          [-1, 128, 28, 28]           8,192\n",
      "      BatchNorm2d-25          [-1, 128, 28, 28]             256\n",
      "             ReLU-26          [-1, 128, 28, 28]               0\n",
      "       BasicBlock-27          [-1, 128, 28, 28]               0\n",
      "           Conv2d-28          [-1, 128, 28, 28]         147,456\n",
      "      BatchNorm2d-29          [-1, 128, 28, 28]             256\n",
      "             ReLU-30          [-1, 128, 28, 28]               0\n",
      "           Conv2d-31          [-1, 128, 28, 28]         147,456\n",
      "      BatchNorm2d-32          [-1, 128, 28, 28]             256\n",
      "             ReLU-33          [-1, 128, 28, 28]               0\n",
      "       BasicBlock-34          [-1, 128, 28, 28]               0\n",
      "           Conv2d-35          [-1, 256, 14, 14]         294,912\n",
      "      BatchNorm2d-36          [-1, 256, 14, 14]             512\n",
      "             ReLU-37          [-1, 256, 14, 14]               0\n",
      "           Conv2d-38          [-1, 256, 14, 14]         589,824\n",
      "      BatchNorm2d-39          [-1, 256, 14, 14]             512\n",
      "           Conv2d-40          [-1, 256, 14, 14]          32,768\n",
      "      BatchNorm2d-41          [-1, 256, 14, 14]             512\n",
      "             ReLU-42          [-1, 256, 14, 14]               0\n",
      "       BasicBlock-43          [-1, 256, 14, 14]               0\n",
      "           Conv2d-44          [-1, 256, 14, 14]         589,824\n",
      "      BatchNorm2d-45          [-1, 256, 14, 14]             512\n",
      "             ReLU-46          [-1, 256, 14, 14]               0\n",
      "           Conv2d-47          [-1, 256, 14, 14]         589,824\n",
      "      BatchNorm2d-48          [-1, 256, 14, 14]             512\n",
      "             ReLU-49          [-1, 256, 14, 14]               0\n",
      "       BasicBlock-50          [-1, 256, 14, 14]               0\n",
      "           Conv2d-51            [-1, 512, 7, 7]       1,179,648\n",
      "      BatchNorm2d-52            [-1, 512, 7, 7]           1,024\n",
      "             ReLU-53            [-1, 512, 7, 7]               0\n",
      "           Conv2d-54            [-1, 512, 7, 7]       2,359,296\n",
      "      BatchNorm2d-55            [-1, 512, 7, 7]           1,024\n",
      "           Conv2d-56            [-1, 512, 7, 7]         131,072\n",
      "      BatchNorm2d-57            [-1, 512, 7, 7]           1,024\n",
      "             ReLU-58            [-1, 512, 7, 7]               0\n",
      "       BasicBlock-59            [-1, 512, 7, 7]               0\n",
      "           Conv2d-60            [-1, 512, 7, 7]       2,359,296\n",
      "      BatchNorm2d-61            [-1, 512, 7, 7]           1,024\n",
      "             ReLU-62            [-1, 512, 7, 7]               0\n",
      "           Conv2d-63            [-1, 512, 7, 7]       2,359,296\n",
      "      BatchNorm2d-64            [-1, 512, 7, 7]           1,024\n",
      "             ReLU-65            [-1, 512, 7, 7]               0\n",
      "       BasicBlock-66            [-1, 512, 7, 7]               0\n",
      "AdaptiveAvgPool2d-67            [-1, 512, 1, 1]               0\n",
      "           Linear-68                    [-1, 2]           1,026\n",
      "================================================================\n",
      "Total params: 11,177,538\n",
      "Trainable params: 11,177,538\n",
      "Non-trainable params: 0\n",
      "----------------------------------------------------------------\n",
      "Input size (MB): 0.57\n",
      "Forward/backward pass size (MB): 62.79\n",
      "Params size (MB): 42.64\n",
      "Estimated Total Size (MB): 106.00\n",
      "----------------------------------------------------------------\n"
     ]
    }
   ],
   "source": [
    "summary(model_ft, (3, 224, 224))"
   ]
  },
  {
   "cell_type": "code",
   "execution_count": null,
   "id": "b8206bff-0e1d-45c9-a5d9-7b6079fe9c8e",
   "metadata": {},
   "outputs": [],
   "source": []
  },
  {
   "cell_type": "code",
   "execution_count": null,
   "id": "5fa1265e-ecad-4f7c-8045-117aca4d698e",
   "metadata": {},
   "outputs": [],
   "source": []
  },
  {
   "cell_type": "code",
   "execution_count": 9,
   "id": "a8ec6a64-9d87-485e-859f-340bc3c8822b",
   "metadata": {},
   "outputs": [],
   "source": [
    "model_ft = model_ft.to(device)\n",
    "\n",
    "\n",
    "criterion = nn.CrossEntropyLoss()\n",
    "\n",
    "# Observe that all parameters are being optimized\n",
    "optimizer_ft = optim.SGD(model_ft.parameters(), lr = cfg['learning_rate'], momentum=0.9)\n",
    "\n",
    "# Decay LR by a factor of 0.1 every 7 epochs\n",
    "exp_lr_scheduler = lr_scheduler.StepLR(optimizer_ft, step_size=7, gamma=0.1)"
   ]
  },
  {
   "cell_type": "code",
   "execution_count": 10,
   "id": "a927b8a1-0448-4af2-ab2a-7d24b3b5f4d7",
   "metadata": {},
   "outputs": [
    {
     "data": {
      "text/plain": [
       "[]"
      ]
     },
     "execution_count": 10,
     "metadata": {},
     "output_type": "execute_result"
    }
   ],
   "source": [
    "wandb.watch(model_ft)"
   ]
  },
  {
   "cell_type": "code",
   "execution_count": null,
   "id": "4c0cbc7a-4e69-4d0e-896c-512156fdd10e",
   "metadata": {},
   "outputs": [
    {
     "name": "stdout",
     "output_type": "stream",
     "text": [
      "Epoch 0/14\n",
      "----------\n",
      "train Loss: 0.1611 Acc: 0.9516\n",
      "val Loss: 0.1328 Acc: 0.9592\n",
      "[0.9949410557746887, 0.6086306571960449]\n",
      "\n",
      "[0.9954017996788025, 0.661982536315918]\n",
      "\n",
      "Epoch 1/14\n",
      "----------\n",
      "train Loss: 0.1325 Acc: 0.9558\n",
      "val Loss: 0.1246 Acc: 0.9596\n",
      "[0.9934828281402588, 0.6574302315711975]\n",
      "\n",
      "[0.9928371906280518, 0.6862298250198364]\n",
      "\n",
      "Epoch 2/14\n",
      "----------\n",
      "train Loss: 0.1211 Acc: 0.9585\n",
      "val Loss: 0.1206 Acc: 0.9618\n",
      "[0.9915174841880798, 0.6975088715553284]\n",
      "\n",
      "[0.9913809299468994, 0.7192482948303223]\n",
      "\n",
      "Epoch 3/14\n",
      "----------\n",
      "train Loss: 0.1138 Acc: 0.9608\n",
      "val Loss: 0.1053 Acc: 0.9641\n",
      "[0.9909053444862366, 0.722402811050415]\n",
      "\n",
      "[0.9939922094345093, 0.7182456851005554]\n",
      "\n",
      "Epoch 4/14\n",
      "----------\n",
      "train Loss: 0.1074 Acc: 0.9627\n",
      "val Loss: 0.1041 Acc: 0.9650\n",
      "[0.9909173846244812, 0.7399288415908813]\n",
      "\n",
      "[0.9906650185585022, 0.7537029981613159]\n",
      "\n",
      "Epoch 5/14\n",
      "----------\n",
      "train Loss: 0.1019 Acc: 0.9644\n",
      "val Loss: 0.1150 Acc: 0.9611\n",
      "[0.9907792806625366, 0.7556462287902832]\n",
      "\n",
      "[0.9871060252189636, 0.7477220892906189]\n",
      "\n",
      "Epoch 6/14\n",
      "----------\n",
      "train Loss: 0.0967 Acc: 0.9658\n",
      "val Loss: 0.1102 Acc: 0.9623\n",
      "[0.9908303022384644, 0.7681540846824646]\n",
      "\n",
      "[0.9839633703231812, 0.7843583822250366]\n",
      "\n",
      "Epoch 7/14\n",
      "----------\n",
      "train Loss: 0.0741 Acc: 0.9734\n",
      "val Loss: 0.0980 Acc: 0.9666\n",
      "[0.9920185804367065, 0.8265717625617981]\n",
      "\n",
      "[0.9889774918556213, 0.7825013995170593]\n",
      "\n",
      "Epoch 8/14\n",
      "----------\n",
      "train Loss: 0.0664 Acc: 0.9762\n",
      "val Loss: 0.1020 Acc: 0.9652\n",
      "[0.9924536943435669, 0.8477270603179932]\n",
      "\n",
      "[0.9861586093902588, 0.793470025062561]\n",
      "\n",
      "Epoch 9/14\n",
      "----------\n",
      "train Loss: 0.0609 Acc: 0.9780\n",
      "val Loss: 0.1040 Acc: 0.9652\n",
      "[0.9927507042884827, 0.8609489798545837]\n",
      "\n",
      "[0.987199068069458, 0.7848461866378784]\n",
      "\n",
      "Epoch 10/14\n",
      "----------\n",
      "train Loss: 0.0554 Acc: 0.9797\n",
      "val Loss: 0.1115 Acc: 0.9646\n",
      "[0.9930688142776489, 0.8740628361701965]\n",
      "\n",
      "[0.9859740734100342, 0.789253830909729]\n",
      "\n",
      "Epoch 11/14\n",
      "----------\n",
      "train Loss: 0.0494 Acc: 0.9818\n",
      "val Loss: 0.1223 Acc: 0.9621\n",
      "[0.9936388731002808, 0.8886358141899109]\n",
      "\n",
      "[0.9818841218948364, 0.7995063662528992]\n",
      "\n",
      "Epoch 12/14\n",
      "----------\n",
      "train Loss: 0.0430 Acc: 0.9843\n",
      "val Loss: 0.1232 Acc: 0.9630\n",
      "[0.9942749738693237, 0.9050081968307495]\n",
      "\n",
      "[0.9843797087669373, 0.7873552441596985]\n",
      "\n",
      "Epoch 13/14\n",
      "----------\n",
      "train Loss: 0.0371 Acc: 0.9860\n"
     ]
    }
   ],
   "source": [
    " model_ft = train_model(model_ft, [dataloaders, dataset_sizes, class_names] , criterion, optimizer_ft, exp_lr_scheduler,\n",
    "                       num_epochs =  cfg['epochs'], n_classes = cfg['n_classes'] , device = device, exp_name = exp_name, cfg = cfg)"
   ]
  },
  {
   "cell_type": "code",
   "execution_count": null,
   "id": "b473047e-6d89-4cd5-aff8-fc6e1e98ad61",
   "metadata": {},
   "outputs": [],
   "source": [
    "from modules.test_utils import test_model"
   ]
  },
  {
   "cell_type": "code",
   "execution_count": null,
   "id": "84d596ed-6780-4ee8-93a3-e18c2e2b7764",
   "metadata": {},
   "outputs": [],
   "source": [
    "conf = test_model(model_ft, [dataloaders, dataset_sizes, class_names] , criterion, n_classes = cfg['n_classes'] , device = device, cfg = cfg)"
   ]
  },
  {
   "cell_type": "code",
   "execution_count": null,
   "id": "91108b7d-3a9a-4230-ba3e-4bf429b69b4c",
   "metadata": {},
   "outputs": [],
   "source": []
  }
 ],
 "metadata": {
  "kernelspec": {
   "display_name": "fyp_env",
   "language": "python",
   "name": "fyp_env"
  },
  "language_info": {
   "codemirror_mode": {
    "name": "ipython",
    "version": 3
   },
   "file_extension": ".py",
   "mimetype": "text/x-python",
   "name": "python",
   "nbconvert_exporter": "python",
   "pygments_lexer": "ipython3",
   "version": "3.6.13"
  }
 },
 "nbformat": 4,
 "nbformat_minor": 5
}
