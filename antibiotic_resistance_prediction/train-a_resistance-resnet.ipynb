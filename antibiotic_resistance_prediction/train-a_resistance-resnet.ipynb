{
 "cells": [
  {
   "cell_type": "code",
   "execution_count": null,
   "id": "465c02a5-810a-4a51-ae2c-58c3c63ab052",
   "metadata": {
    "tags": []
   },
   "outputs": [],
   "source": [
    "from __future__ import print_function, division\n",
    "\n",
    "import os\n",
    "import time\n",
    "import copy\n",
    "import numpy as np\n",
    "import matplotlib.pyplot as plt\n",
    "\n",
    "\n",
    "import torch\n",
    "import torch.nn as nn\n",
    "import torch.nn.functional as F\n",
    "import torch.optim as optim\n",
    "from torch.optim import lr_scheduler\n",
    "import torchvision\n",
    "from torchvision import datasets, models, transforms\n",
    "from torchsummary import summary\n",
    "from torchmetrics.classification import Accuracy\n",
    "from sklearn.metrics import confusion_matrix\n",
    "import plotly.graph_objs as go\n",
    "\n",
    "import sys\n",
    "sys.path.append('../')\n",
    "\n",
    "from modules.helpers import *\n",
    "from modules.datasets import *\n",
    "from modules.train_utils import train_model\n",
    "from modules.dataloaders import *"
   ]
  },
  {
   "cell_type": "code",
   "execution_count": null,
   "id": "1c823a4d-5591-4076-a992-be76506a1732",
   "metadata": {},
   "outputs": [],
   "source": [
    "import wandb\n",
    "\n",
    "\n",
    "cfg = {\n",
    "  \"learning_rate\": 0.01,\n",
    "  \"epochs\": 15,\n",
    "  \"pretrained_resnet\": True,\n",
    "  \"img_size\" : 224,\n",
    "  \"n_classes\" : 2,\n",
    "  \"label_type\" : \"antibiotic_resistant\",\n",
    "  \"balanced_mode\" : False,\n",
    "  \"expand_channels\" : True,\n",
    "}\n"
   ]
  },
  {
   "cell_type": "code",
   "execution_count": null,
   "id": "6c4e9c9f-c61f-4ee4-86d4-81a8a5ba040b",
   "metadata": {},
   "outputs": [],
   "source": [
    "data_dir = '/n/holyscratch01/wadduwage_lab/D2NN_QPM_classification/datasets/bacteria/'\n",
    "device = torch.device(\"cuda:0\" if torch.cuda.is_available() else \"cpu\")\n",
    "n_c = cfg['n_classes']"
   ]
  },
  {
   "cell_type": "code",
   "execution_count": null,
   "id": "482b9a53-4655-4bf9-9ec0-8b8168be7fa4",
   "metadata": {},
   "outputs": [],
   "source": [
    "dataloaders = {}\n",
    "dataloaders['train'], dataloaders['val'], dataloaders['test'], dataset_sizes =  get_bacteria_dataloaders(cfg['img_size'], 32 , 10, label_type = cfg['label_type'] , balanced_mode = cfg['balanced_mode'],expand_channels = cfg['expand_channels'])\n",
    "\n",
    "class_names = [x for x in range(0, n_c)]\n",
    "\n",
    "if(n_c == 21):\n",
    "    class_names = ['Acinetobacter','B subtilis','E. coli K12','S. aureus','E. coli (CCUG17620)','E. coli (NCTC13441)','E. coli (A2-39)','K. pneumoniae (A2-23)','S. aureus (CCUG35600)','E. coli (101)','E. coli (102)','E. coli (104)','K. pneumoniae (210)','K. pneumoniae (211)','K. pneumoniae (212)','K. pneumoniae (240)','Acinetobacter K12-21','Acinetobacter K48-42','Acinetobacter K55-13','Acinetobacter K57-06','Acinetobacter K71-71']"
   ]
  },
  {
   "cell_type": "code",
   "execution_count": null,
   "id": "59cd7f9d-1b9d-483d-9a50-e79917a02548",
   "metadata": {},
   "outputs": [],
   "source": [
    "cfg['dataset_sizes'] = dataset_sizes"
   ]
  },
  {
   "cell_type": "code",
   "execution_count": null,
   "id": "14c33210-5d5a-4182-bc74-2901923bebe9",
   "metadata": {},
   "outputs": [],
   "source": [
    "exp_name = \"ARP - Resnet 18\" + str(time.time())\n",
    "wandb.init(project=\"antibiotic-resistance-prediction\", name = exp_name, config = cfg,  entity=\"ramith\")"
   ]
  },
  {
   "cell_type": "code",
   "execution_count": null,
   "id": "83ed40d4-d1e9-4570-81ac-7a8e286cfd97",
   "metadata": {},
   "outputs": [],
   "source": [
    "model_ft = models.resnet18(pretrained=wandb.config['pretrained_resnet'])\n",
    "\n",
    "num_ftrs = model_ft.fc.in_features\n",
    "\n",
    "model_ft.fc = nn.Linear(num_ftrs, n_c)\n",
    "\n",
    "model_ft = model_ft.to(device)"
   ]
  },
  {
   "cell_type": "code",
   "execution_count": null,
   "id": "bdac2171-e638-4e36-a929-ec07f56e41d3",
   "metadata": {},
   "outputs": [],
   "source": [
    "summary(model_ft, (3, 224, 224))"
   ]
  },
  {
   "cell_type": "code",
   "execution_count": null,
   "id": "b8206bff-0e1d-45c9-a5d9-7b6079fe9c8e",
   "metadata": {},
   "outputs": [],
   "source": []
  },
  {
   "cell_type": "code",
   "execution_count": null,
   "id": "5fa1265e-ecad-4f7c-8045-117aca4d698e",
   "metadata": {},
   "outputs": [],
   "source": []
  },
  {
   "cell_type": "code",
   "execution_count": null,
   "id": "a8ec6a64-9d87-485e-859f-340bc3c8822b",
   "metadata": {},
   "outputs": [],
   "source": [
    "model_ft = model_ft.to(device)\n",
    "\n",
    "\n",
    "criterion = nn.CrossEntropyLoss()\n",
    "\n",
    "# Observe that all parameters are being optimized\n",
    "optimizer_ft = optim.SGD(model_ft.parameters(), lr = cfg['learning_rate'], momentum=0.9)\n",
    "\n",
    "# Decay LR by a factor of 0.1 every 7 epochs\n",
    "exp_lr_scheduler = lr_scheduler.StepLR(optimizer_ft, step_size=7, gamma=0.1)"
   ]
  },
  {
   "cell_type": "code",
   "execution_count": null,
   "id": "a927b8a1-0448-4af2-ab2a-7d24b3b5f4d7",
   "metadata": {},
   "outputs": [],
   "source": [
    "wandb.watch(model_ft)"
   ]
  },
  {
   "cell_type": "code",
   "execution_count": null,
   "id": "4c0cbc7a-4e69-4d0e-896c-512156fdd10e",
   "metadata": {},
   "outputs": [],
   "source": [
    " model_ft = train_model(model_ft, [dataloaders, dataset_sizes, class_names] , criterion, optimizer_ft, exp_lr_scheduler,\n",
    "                       num_epochs =  cfg['epochs'], n_classes = cfg['n_classes'] , device = device, exp_name = exp_name, cfg = cfg)"
   ]
  },
  {
   "cell_type": "code",
   "execution_count": null,
   "id": "b473047e-6d89-4cd5-aff8-fc6e1e98ad61",
   "metadata": {},
   "outputs": [],
   "source": [
    "from modules.test_utils import test_model"
   ]
  },
  {
   "cell_type": "code",
   "execution_count": null,
   "id": "84d596ed-6780-4ee8-93a3-e18c2e2b7764",
   "metadata": {},
   "outputs": [],
   "source": [
    "conf = test_model(model_ft, [dataloaders, dataset_sizes, class_names] , criterion, n_classes = cfg['n_classes'] , device = device, cfg = cfg)"
   ]
  },
  {
   "cell_type": "code",
   "execution_count": null,
   "id": "91108b7d-3a9a-4230-ba3e-4bf429b69b4c",
   "metadata": {},
   "outputs": [],
   "source": []
  }
 ],
 "metadata": {
  "kernelspec": {
   "display_name": "fyp_env",
   "language": "python",
   "name": "fyp_env"
  },
  "language_info": {
   "codemirror_mode": {
    "name": "ipython",
    "version": 3
   },
   "file_extension": ".py",
   "mimetype": "text/x-python",
   "name": "python",
   "nbconvert_exporter": "python",
   "pygments_lexer": "ipython3",
   "version": "3.6.13"
  }
 },
 "nbformat": 4,
 "nbformat_minor": 5
}
