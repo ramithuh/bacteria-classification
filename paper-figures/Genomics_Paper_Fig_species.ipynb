{
 "cells": [
  {
   "cell_type": "code",
   "execution_count": 1,
   "metadata": {},
   "outputs": [],
   "source": [
    "import plotly.figure_factory as ff\n",
    "\n",
    "\n",
    "z = [[474, 0, 0, 0, 0],\n",
    " [0, 45, 0, 0, 0],\n",
    " [0, 0, 408, 0, 0],\n",
    " [0, 0, 0, 521, 0],\n",
    " [0, 0, 0, 0, 124]]\n",
    "\n",
    "z_ = z\n",
    "\n",
    "x_ = ['Acinetobacter', 'B. subtilis', 'E. coli', 'K. pneumoniae', 'S. aureus']\n",
    "y_ = ['Acinetobacter', 'B. subtilis', 'E. coli', 'K. pneumoniae', 'S. aureus']\n",
    "\n",
    "# change each element of z to type string for annotations\n",
    "z_text = [[str(y_) for y_ in x_] for x_ in z]\n",
    "\n"
   ]
  },
  {
   "cell_type": "code",
   "execution_count": 18,
   "metadata": {},
   "outputs": [
    {
     "data": {
      "application/vnd.plotly.v1+json": {
       "config": {
        "plotlyServerURL": "https://plot.ly"
       },
       "data": [
        {
         "marker": {
          "color": "rgba(50, 171, 96, 0.6)",
          "line": {
           "color": "rgba(50, 171, 96, 1.0)",
           "width": 1
          }
         },
         "name": "Accuracy",
         "orientation": "h",
         "type": "bar",
         "x": [
          100,
          100,
          100,
          100,
          100
         ],
         "xaxis": "x",
         "y": [
          "[5] - S. aureus         ",
          "[4] - K. pneumoniae ",
          "[3] - E. coli              ",
          "[2] - B. subtilis        ",
          "[1] - Acinetobacter  "
         ],
         "yaxis": "y"
        },
        {
         "coloraxis": "coloraxis",
         "opacity": 0.8,
         "type": "heatmap",
         "x": [
          1,
          2,
          3,
          4,
          5
         ],
         "xaxis": "x2",
         "xgap": 1,
         "y": [
          1,
          2,
          3,
          4,
          5
         ],
         "yaxis": "y2",
         "ygap": 1,
         "z": [
          [
           474,
           0,
           0,
           0,
           0
          ],
          [
           0,
           45,
           0,
           0,
           0
          ],
          [
           0,
           0,
           408,
           0,
           0
          ],
          [
           0,
           0,
           0,
           521,
           0
          ],
          [
           0,
           0,
           0,
           0,
           124
          ]
         ]
        }
       ],
       "layout": {
        "annotations": [
         {
          "font": {
           "color": "rgb(245,245,245)",
           "family": "Arial",
           "size": 16
          },
          "showarrow": false,
          "text": "474",
          "x": 1,
          "xref": "x2",
          "y": 1,
          "yref": "y2"
         },
         {
          "font": {
           "color": "rgb(245,245,245)",
           "family": "Arial",
           "size": 16
          },
          "showarrow": false,
          "text": "0",
          "x": 2,
          "xref": "x2",
          "y": 1,
          "yref": "y2"
         },
         {
          "font": {
           "color": "rgb(245,245,245)",
           "family": "Arial",
           "size": 16
          },
          "showarrow": false,
          "text": "0",
          "x": 3,
          "xref": "x2",
          "y": 1,
          "yref": "y2"
         },
         {
          "font": {
           "color": "rgb(245,245,245)",
           "family": "Arial",
           "size": 16
          },
          "showarrow": false,
          "text": "0",
          "x": 4,
          "xref": "x2",
          "y": 1,
          "yref": "y2"
         },
         {
          "font": {
           "color": "rgb(245,245,245)",
           "family": "Arial",
           "size": 16
          },
          "showarrow": false,
          "text": "0",
          "x": 5,
          "xref": "x2",
          "y": 1,
          "yref": "y2"
         },
         {
          "font": {
           "color": "rgb(245,245,245)",
           "family": "Arial",
           "size": 16
          },
          "showarrow": false,
          "text": "0",
          "x": 1,
          "xref": "x2",
          "y": 2,
          "yref": "y2"
         },
         {
          "font": {
           "color": "rgb(245,245,245)",
           "family": "Arial",
           "size": 16
          },
          "showarrow": false,
          "text": "45",
          "x": 2,
          "xref": "x2",
          "y": 2,
          "yref": "y2"
         },
         {
          "font": {
           "color": "rgb(245,245,245)",
           "family": "Arial",
           "size": 16
          },
          "showarrow": false,
          "text": "0",
          "x": 3,
          "xref": "x2",
          "y": 2,
          "yref": "y2"
         },
         {
          "font": {
           "color": "rgb(245,245,245)",
           "family": "Arial",
           "size": 16
          },
          "showarrow": false,
          "text": "0",
          "x": 4,
          "xref": "x2",
          "y": 2,
          "yref": "y2"
         },
         {
          "font": {
           "color": "rgb(245,245,245)",
           "family": "Arial",
           "size": 16
          },
          "showarrow": false,
          "text": "0",
          "x": 5,
          "xref": "x2",
          "y": 2,
          "yref": "y2"
         },
         {
          "font": {
           "color": "rgb(245,245,245)",
           "family": "Arial",
           "size": 16
          },
          "showarrow": false,
          "text": "0",
          "x": 1,
          "xref": "x2",
          "y": 3,
          "yref": "y2"
         },
         {
          "font": {
           "color": "rgb(245,245,245)",
           "family": "Arial",
           "size": 16
          },
          "showarrow": false,
          "text": "0",
          "x": 2,
          "xref": "x2",
          "y": 3,
          "yref": "y2"
         },
         {
          "font": {
           "color": "rgb(245,245,245)",
           "family": "Arial",
           "size": 16
          },
          "showarrow": false,
          "text": "408",
          "x": 3,
          "xref": "x2",
          "y": 3,
          "yref": "y2"
         },
         {
          "font": {
           "color": "rgb(245,245,245)",
           "family": "Arial",
           "size": 16
          },
          "showarrow": false,
          "text": "0",
          "x": 4,
          "xref": "x2",
          "y": 3,
          "yref": "y2"
         },
         {
          "font": {
           "color": "rgb(245,245,245)",
           "family": "Arial",
           "size": 16
          },
          "showarrow": false,
          "text": "0",
          "x": 5,
          "xref": "x2",
          "y": 3,
          "yref": "y2"
         },
         {
          "font": {
           "color": "rgb(245,245,245)",
           "family": "Arial",
           "size": 16
          },
          "showarrow": false,
          "text": "0",
          "x": 1,
          "xref": "x2",
          "y": 4,
          "yref": "y2"
         },
         {
          "font": {
           "color": "rgb(245,245,245)",
           "family": "Arial",
           "size": 16
          },
          "showarrow": false,
          "text": "0",
          "x": 2,
          "xref": "x2",
          "y": 4,
          "yref": "y2"
         },
         {
          "font": {
           "color": "rgb(245,245,245)",
           "family": "Arial",
           "size": 16
          },
          "showarrow": false,
          "text": "0",
          "x": 3,
          "xref": "x2",
          "y": 4,
          "yref": "y2"
         },
         {
          "font": {
           "color": "rgb(245,245,245)",
           "family": "Arial",
           "size": 16
          },
          "showarrow": false,
          "text": "521",
          "x": 4,
          "xref": "x2",
          "y": 4,
          "yref": "y2"
         },
         {
          "font": {
           "color": "rgb(245,245,245)",
           "family": "Arial",
           "size": 16
          },
          "showarrow": false,
          "text": "0",
          "x": 5,
          "xref": "x2",
          "y": 4,
          "yref": "y2"
         },
         {
          "font": {
           "color": "rgb(245,245,245)",
           "family": "Arial",
           "size": 16
          },
          "showarrow": false,
          "text": "0",
          "x": 1,
          "xref": "x2",
          "y": 5,
          "yref": "y2"
         },
         {
          "font": {
           "color": "rgb(245,245,245)",
           "family": "Arial",
           "size": 16
          },
          "showarrow": false,
          "text": "0",
          "x": 2,
          "xref": "x2",
          "y": 5,
          "yref": "y2"
         },
         {
          "font": {
           "color": "rgb(245,245,245)",
           "family": "Arial",
           "size": 16
          },
          "showarrow": false,
          "text": "0",
          "x": 3,
          "xref": "x2",
          "y": 5,
          "yref": "y2"
         },
         {
          "font": {
           "color": "rgb(245,245,245)",
           "family": "Arial",
           "size": 16
          },
          "showarrow": false,
          "text": "0",
          "x": 4,
          "xref": "x2",
          "y": 5,
          "yref": "y2"
         },
         {
          "font": {
           "color": "rgb(245,245,245)",
           "family": "Arial",
           "size": 16
          },
          "showarrow": false,
          "text": "124",
          "x": 5,
          "xref": "x2",
          "y": 5,
          "yref": "y2"
         },
         {
          "font": {
           "color": "rgb(50, 171, 96)",
           "family": "Arial",
           "size": 14
          },
          "showarrow": false,
          "text": "100.0%",
          "x": 108,
          "xref": "x",
          "y": "[5] - S. aureus         ",
          "yref": "y"
         },
         {
          "font": {
           "color": "rgb(50, 171, 96)",
           "family": "Arial",
           "size": 14
          },
          "showarrow": false,
          "text": "100.0%",
          "x": 108,
          "xref": "x",
          "y": "[4] - K. pneumoniae ",
          "yref": "y"
         },
         {
          "font": {
           "color": "rgb(50, 171, 96)",
           "family": "Arial",
           "size": 14
          },
          "showarrow": false,
          "text": "100.0%",
          "x": 108,
          "xref": "x",
          "y": "[3] - E. coli              ",
          "yref": "y"
         },
         {
          "font": {
           "color": "rgb(50, 171, 96)",
           "family": "Arial",
           "size": 14
          },
          "showarrow": false,
          "text": "100.0%",
          "x": 108,
          "xref": "x",
          "y": "[2] - B. subtilis        ",
          "yref": "y"
         },
         {
          "font": {
           "color": "rgb(50, 171, 96)",
           "family": "Arial",
           "size": 14
          },
          "showarrow": false,
          "text": "100.0%",
          "x": 108,
          "xref": "x",
          "y": "[1] - Acinetobacter  ",
          "yref": "y"
         }
        ],
        "autosize": false,
        "height": 450,
        "legend": {
         "font": {
          "size": 10
         },
         "x": 0.029,
         "y": 1.038
        },
        "margin": {
         "b": 50,
         "l": 5,
         "r": 5,
         "t": 50
        },
        "paper_bgcolor": "rgb(248, 248, 255)",
        "plot_bgcolor": "rgb(248, 248, 255)",
        "template": {
         "data": {
          "bar": [
           {
            "error_x": {
             "color": "#2a3f5f"
            },
            "error_y": {
             "color": "#2a3f5f"
            },
            "marker": {
             "line": {
              "color": "#E5ECF6",
              "width": 0.5
             },
             "pattern": {
              "fillmode": "overlay",
              "size": 10,
              "solidity": 0.2
             }
            },
            "type": "bar"
           }
          ],
          "barpolar": [
           {
            "marker": {
             "line": {
              "color": "#E5ECF6",
              "width": 0.5
             },
             "pattern": {
              "fillmode": "overlay",
              "size": 10,
              "solidity": 0.2
             }
            },
            "type": "barpolar"
           }
          ],
          "carpet": [
           {
            "aaxis": {
             "endlinecolor": "#2a3f5f",
             "gridcolor": "white",
             "linecolor": "white",
             "minorgridcolor": "white",
             "startlinecolor": "#2a3f5f"
            },
            "baxis": {
             "endlinecolor": "#2a3f5f",
             "gridcolor": "white",
             "linecolor": "white",
             "minorgridcolor": "white",
             "startlinecolor": "#2a3f5f"
            },
            "type": "carpet"
           }
          ],
          "choropleth": [
           {
            "colorbar": {
             "outlinewidth": 0,
             "ticks": ""
            },
            "type": "choropleth"
           }
          ],
          "contour": [
           {
            "colorbar": {
             "outlinewidth": 0,
             "ticks": ""
            },
            "colorscale": [
             [
              0,
              "#0d0887"
             ],
             [
              0.1111111111111111,
              "#46039f"
             ],
             [
              0.2222222222222222,
              "#7201a8"
             ],
             [
              0.3333333333333333,
              "#9c179e"
             ],
             [
              0.4444444444444444,
              "#bd3786"
             ],
             [
              0.5555555555555556,
              "#d8576b"
             ],
             [
              0.6666666666666666,
              "#ed7953"
             ],
             [
              0.7777777777777778,
              "#fb9f3a"
             ],
             [
              0.8888888888888888,
              "#fdca26"
             ],
             [
              1,
              "#f0f921"
             ]
            ],
            "type": "contour"
           }
          ],
          "contourcarpet": [
           {
            "colorbar": {
             "outlinewidth": 0,
             "ticks": ""
            },
            "type": "contourcarpet"
           }
          ],
          "heatmap": [
           {
            "colorbar": {
             "outlinewidth": 0,
             "ticks": ""
            },
            "colorscale": [
             [
              0,
              "#0d0887"
             ],
             [
              0.1111111111111111,
              "#46039f"
             ],
             [
              0.2222222222222222,
              "#7201a8"
             ],
             [
              0.3333333333333333,
              "#9c179e"
             ],
             [
              0.4444444444444444,
              "#bd3786"
             ],
             [
              0.5555555555555556,
              "#d8576b"
             ],
             [
              0.6666666666666666,
              "#ed7953"
             ],
             [
              0.7777777777777778,
              "#fb9f3a"
             ],
             [
              0.8888888888888888,
              "#fdca26"
             ],
             [
              1,
              "#f0f921"
             ]
            ],
            "type": "heatmap"
           }
          ],
          "heatmapgl": [
           {
            "colorbar": {
             "outlinewidth": 0,
             "ticks": ""
            },
            "colorscale": [
             [
              0,
              "#0d0887"
             ],
             [
              0.1111111111111111,
              "#46039f"
             ],
             [
              0.2222222222222222,
              "#7201a8"
             ],
             [
              0.3333333333333333,
              "#9c179e"
             ],
             [
              0.4444444444444444,
              "#bd3786"
             ],
             [
              0.5555555555555556,
              "#d8576b"
             ],
             [
              0.6666666666666666,
              "#ed7953"
             ],
             [
              0.7777777777777778,
              "#fb9f3a"
             ],
             [
              0.8888888888888888,
              "#fdca26"
             ],
             [
              1,
              "#f0f921"
             ]
            ],
            "type": "heatmapgl"
           }
          ],
          "histogram": [
           {
            "marker": {
             "pattern": {
              "fillmode": "overlay",
              "size": 10,
              "solidity": 0.2
             }
            },
            "type": "histogram"
           }
          ],
          "histogram2d": [
           {
            "colorbar": {
             "outlinewidth": 0,
             "ticks": ""
            },
            "colorscale": [
             [
              0,
              "#0d0887"
             ],
             [
              0.1111111111111111,
              "#46039f"
             ],
             [
              0.2222222222222222,
              "#7201a8"
             ],
             [
              0.3333333333333333,
              "#9c179e"
             ],
             [
              0.4444444444444444,
              "#bd3786"
             ],
             [
              0.5555555555555556,
              "#d8576b"
             ],
             [
              0.6666666666666666,
              "#ed7953"
             ],
             [
              0.7777777777777778,
              "#fb9f3a"
             ],
             [
              0.8888888888888888,
              "#fdca26"
             ],
             [
              1,
              "#f0f921"
             ]
            ],
            "type": "histogram2d"
           }
          ],
          "histogram2dcontour": [
           {
            "colorbar": {
             "outlinewidth": 0,
             "ticks": ""
            },
            "colorscale": [
             [
              0,
              "#0d0887"
             ],
             [
              0.1111111111111111,
              "#46039f"
             ],
             [
              0.2222222222222222,
              "#7201a8"
             ],
             [
              0.3333333333333333,
              "#9c179e"
             ],
             [
              0.4444444444444444,
              "#bd3786"
             ],
             [
              0.5555555555555556,
              "#d8576b"
             ],
             [
              0.6666666666666666,
              "#ed7953"
             ],
             [
              0.7777777777777778,
              "#fb9f3a"
             ],
             [
              0.8888888888888888,
              "#fdca26"
             ],
             [
              1,
              "#f0f921"
             ]
            ],
            "type": "histogram2dcontour"
           }
          ],
          "mesh3d": [
           {
            "colorbar": {
             "outlinewidth": 0,
             "ticks": ""
            },
            "type": "mesh3d"
           }
          ],
          "parcoords": [
           {
            "line": {
             "colorbar": {
              "outlinewidth": 0,
              "ticks": ""
             }
            },
            "type": "parcoords"
           }
          ],
          "pie": [
           {
            "automargin": true,
            "type": "pie"
           }
          ],
          "scatter": [
           {
            "marker": {
             "colorbar": {
              "outlinewidth": 0,
              "ticks": ""
             }
            },
            "type": "scatter"
           }
          ],
          "scatter3d": [
           {
            "line": {
             "colorbar": {
              "outlinewidth": 0,
              "ticks": ""
             }
            },
            "marker": {
             "colorbar": {
              "outlinewidth": 0,
              "ticks": ""
             }
            },
            "type": "scatter3d"
           }
          ],
          "scattercarpet": [
           {
            "marker": {
             "colorbar": {
              "outlinewidth": 0,
              "ticks": ""
             }
            },
            "type": "scattercarpet"
           }
          ],
          "scattergeo": [
           {
            "marker": {
             "colorbar": {
              "outlinewidth": 0,
              "ticks": ""
             }
            },
            "type": "scattergeo"
           }
          ],
          "scattergl": [
           {
            "marker": {
             "colorbar": {
              "outlinewidth": 0,
              "ticks": ""
             }
            },
            "type": "scattergl"
           }
          ],
          "scattermapbox": [
           {
            "marker": {
             "colorbar": {
              "outlinewidth": 0,
              "ticks": ""
             }
            },
            "type": "scattermapbox"
           }
          ],
          "scatterpolar": [
           {
            "marker": {
             "colorbar": {
              "outlinewidth": 0,
              "ticks": ""
             }
            },
            "type": "scatterpolar"
           }
          ],
          "scatterpolargl": [
           {
            "marker": {
             "colorbar": {
              "outlinewidth": 0,
              "ticks": ""
             }
            },
            "type": "scatterpolargl"
           }
          ],
          "scatterternary": [
           {
            "marker": {
             "colorbar": {
              "outlinewidth": 0,
              "ticks": ""
             }
            },
            "type": "scatterternary"
           }
          ],
          "surface": [
           {
            "colorbar": {
             "outlinewidth": 0,
             "ticks": ""
            },
            "colorscale": [
             [
              0,
              "#0d0887"
             ],
             [
              0.1111111111111111,
              "#46039f"
             ],
             [
              0.2222222222222222,
              "#7201a8"
             ],
             [
              0.3333333333333333,
              "#9c179e"
             ],
             [
              0.4444444444444444,
              "#bd3786"
             ],
             [
              0.5555555555555556,
              "#d8576b"
             ],
             [
              0.6666666666666666,
              "#ed7953"
             ],
             [
              0.7777777777777778,
              "#fb9f3a"
             ],
             [
              0.8888888888888888,
              "#fdca26"
             ],
             [
              1,
              "#f0f921"
             ]
            ],
            "type": "surface"
           }
          ],
          "table": [
           {
            "cells": {
             "fill": {
              "color": "#EBF0F8"
             },
             "line": {
              "color": "white"
             }
            },
            "header": {
             "fill": {
              "color": "#C8D4E3"
             },
             "line": {
              "color": "white"
             }
            },
            "type": "table"
           }
          ]
         },
         "layout": {
          "annotationdefaults": {
           "arrowcolor": "#2a3f5f",
           "arrowhead": 0,
           "arrowwidth": 1
          },
          "autotypenumbers": "strict",
          "coloraxis": {
           "colorbar": {
            "outlinewidth": 0,
            "ticks": ""
           }
          },
          "colorscale": {
           "diverging": [
            [
             0,
             "#8e0152"
            ],
            [
             0.1,
             "#c51b7d"
            ],
            [
             0.2,
             "#de77ae"
            ],
            [
             0.3,
             "#f1b6da"
            ],
            [
             0.4,
             "#fde0ef"
            ],
            [
             0.5,
             "#f7f7f7"
            ],
            [
             0.6,
             "#e6f5d0"
            ],
            [
             0.7,
             "#b8e186"
            ],
            [
             0.8,
             "#7fbc41"
            ],
            [
             0.9,
             "#4d9221"
            ],
            [
             1,
             "#276419"
            ]
           ],
           "sequential": [
            [
             0,
             "#0d0887"
            ],
            [
             0.1111111111111111,
             "#46039f"
            ],
            [
             0.2222222222222222,
             "#7201a8"
            ],
            [
             0.3333333333333333,
             "#9c179e"
            ],
            [
             0.4444444444444444,
             "#bd3786"
            ],
            [
             0.5555555555555556,
             "#d8576b"
            ],
            [
             0.6666666666666666,
             "#ed7953"
            ],
            [
             0.7777777777777778,
             "#fb9f3a"
            ],
            [
             0.8888888888888888,
             "#fdca26"
            ],
            [
             1,
             "#f0f921"
            ]
           ],
           "sequentialminus": [
            [
             0,
             "#0d0887"
            ],
            [
             0.1111111111111111,
             "#46039f"
            ],
            [
             0.2222222222222222,
             "#7201a8"
            ],
            [
             0.3333333333333333,
             "#9c179e"
            ],
            [
             0.4444444444444444,
             "#bd3786"
            ],
            [
             0.5555555555555556,
             "#d8576b"
            ],
            [
             0.6666666666666666,
             "#ed7953"
            ],
            [
             0.7777777777777778,
             "#fb9f3a"
            ],
            [
             0.8888888888888888,
             "#fdca26"
            ],
            [
             1,
             "#f0f921"
            ]
           ]
          },
          "colorway": [
           "#636efa",
           "#EF553B",
           "#00cc96",
           "#ab63fa",
           "#FFA15A",
           "#19d3f3",
           "#FF6692",
           "#B6E880",
           "#FF97FF",
           "#FECB52"
          ],
          "font": {
           "color": "#2a3f5f"
          },
          "geo": {
           "bgcolor": "white",
           "lakecolor": "white",
           "landcolor": "#E5ECF6",
           "showlakes": true,
           "showland": true,
           "subunitcolor": "white"
          },
          "hoverlabel": {
           "align": "left"
          },
          "hovermode": "closest",
          "mapbox": {
           "style": "light"
          },
          "paper_bgcolor": "white",
          "plot_bgcolor": "#E5ECF6",
          "polar": {
           "angularaxis": {
            "gridcolor": "white",
            "linecolor": "white",
            "ticks": ""
           },
           "bgcolor": "#E5ECF6",
           "radialaxis": {
            "gridcolor": "white",
            "linecolor": "white",
            "ticks": ""
           }
          },
          "scene": {
           "xaxis": {
            "backgroundcolor": "#E5ECF6",
            "gridcolor": "white",
            "gridwidth": 2,
            "linecolor": "white",
            "showbackground": true,
            "ticks": "",
            "zerolinecolor": "white"
           },
           "yaxis": {
            "backgroundcolor": "#E5ECF6",
            "gridcolor": "white",
            "gridwidth": 2,
            "linecolor": "white",
            "showbackground": true,
            "ticks": "",
            "zerolinecolor": "white"
           },
           "zaxis": {
            "backgroundcolor": "#E5ECF6",
            "gridcolor": "white",
            "gridwidth": 2,
            "linecolor": "white",
            "showbackground": true,
            "ticks": "",
            "zerolinecolor": "white"
           }
          },
          "shapedefaults": {
           "line": {
            "color": "#2a3f5f"
           }
          },
          "ternary": {
           "aaxis": {
            "gridcolor": "white",
            "linecolor": "white",
            "ticks": ""
           },
           "baxis": {
            "gridcolor": "white",
            "linecolor": "white",
            "ticks": ""
           },
           "bgcolor": "#E5ECF6",
           "caxis": {
            "gridcolor": "white",
            "linecolor": "white",
            "ticks": ""
           }
          },
          "title": {
           "x": 0.05
          },
          "xaxis": {
           "automargin": true,
           "gridcolor": "white",
           "linecolor": "white",
           "ticks": "",
           "title": {
            "standoff": 15
           },
           "zerolinecolor": "white",
           "zerolinewidth": 2
          },
          "yaxis": {
           "automargin": true,
           "gridcolor": "white",
           "linecolor": "white",
           "ticks": "",
           "title": {
            "standoff": 15
           },
           "zerolinecolor": "white",
           "zerolinewidth": 2
          }
         }
        },
        "title": {
         "text": "Bacteria Species Prediction"
        },
        "width": 1250,
        "xaxis": {
         "anchor": "y",
         "autorange": true,
         "domain": [
          0,
          0.45
         ],
         "linecolor": "black",
         "linewidth": 1,
         "range": [
          0,
          114.37943015983322
         ],
         "showgrid": true,
         "showline": true,
         "showticklabels": true,
         "ticks": "outside",
         "title": {
          "text": "Accuracy"
         },
         "type": "linear",
         "zeroline": false
        },
        "xaxis2": {
         "anchor": "y2",
         "autorange": true,
         "domain": [
          0.55,
          1
         ],
         "dtick": 2,
         "range": [
          0.5,
          5.5
         ],
         "title": {
          "text": "Groundtruth"
         },
         "type": "linear"
        },
        "yaxis": {
         "anchor": "x",
         "autorange": true,
         "domain": [
          0,
          1
         ],
         "linecolor": "black",
         "linewidth": 1,
         "range": [
          -0.5,
          4.5
         ],
         "showgrid": true,
         "showline": true,
         "showticklabels": true,
         "ticks": "inside",
         "type": "category"
        },
        "yaxis2": {
         "anchor": "x2",
         "autorange": true,
         "domain": [
          0,
          1
         ],
         "dtick": 2,
         "range": [
          0.5,
          5.5
         ],
         "title": {
          "text": "Prediction"
         },
         "type": "linear"
        }
       }
      },
      "image/png": "[encoded data removed]",
      "text/html": [
       "<div>                            <div id=\"ee103b4f-8af2-4da4-b3ce-9a8cfa0a2a58\" class=\"plotly-graph-div\" style=\"height:525px; width:1250px;\"></div>            <script type=\"text/javascript\">                require([\"plotly\"], function(Plotly) {                    window.PLOTLYENV=window.PLOTLYENV || {};                                    if (document.getElementById(\"ee103b4f-8af2-4da4-b3ce-9a8cfa0a2a58\")) {                    Plotly.newPlot(                        \"ee103b4f-8af2-4da4-b3ce-9a8cfa0a2a58\",                        [{\"marker\":{\"color\":\"rgba(50, 171, 96, 0.6)\",\"line\":{\"color\":\"rgba(50, 171, 96, 1.0)\",\"width\":1}},\"name\":\"Accuracy\",\"orientation\":\"h\",\"type\":\"bar\",\"x\":[100.0,100.0,100.0,100.0,100.0],\"xaxis\":\"x\",\"y\":[\"[5] - S. aureus         \",\"[4] - K. pneumoniae \",\"[3] - E. coli              \",\"[2] - B. subtilis        \",\"[1] - Acinetobacter  \"],\"yaxis\":\"y\"},{\"coloraxis\":\"coloraxis\",\"opacity\":0.8,\"type\":\"heatmap\",\"x\":[1,2,3,4,5],\"xaxis\":\"x2\",\"xgap\":1,\"y\":[1,2,3,4,5],\"yaxis\":\"y2\",\"ygap\":1,\"z\":[[474,0,0,0,0],[0,45,0,0,0],[0,0,408,0,0],[0,0,0,521,0],[0,0,0,0,124]]}],                        {\"annotations\":[{\"font\":{\"color\":\"rgb(245,245,245)\",\"family\":\"Arial\",\"size\":16},\"showarrow\":false,\"text\":\"474\",\"x\":1,\"xref\":\"x2\",\"y\":1,\"yref\":\"y2\"},{\"font\":{\"color\":\"rgb(245,245,245)\",\"family\":\"Arial\",\"size\":16},\"showarrow\":false,\"text\":\"0\",\"x\":2,\"xref\":\"x2\",\"y\":1,\"yref\":\"y2\"},{\"font\":{\"color\":\"rgb(245,245,245)\",\"family\":\"Arial\",\"size\":16},\"showarrow\":false,\"text\":\"0\",\"x\":3,\"xref\":\"x2\",\"y\":1,\"yref\":\"y2\"},{\"font\":{\"color\":\"rgb(245,245,245)\",\"family\":\"Arial\",\"size\":16},\"showarrow\":false,\"text\":\"0\",\"x\":4,\"xref\":\"x2\",\"y\":1,\"yref\":\"y2\"},{\"font\":{\"color\":\"rgb(245,245,245)\",\"family\":\"Arial\",\"size\":16},\"showarrow\":false,\"text\":\"0\",\"x\":5,\"xref\":\"x2\",\"y\":1,\"yref\":\"y2\"},{\"font\":{\"color\":\"rgb(245,245,245)\",\"family\":\"Arial\",\"size\":16},\"showarrow\":false,\"text\":\"0\",\"x\":1,\"xref\":\"x2\",\"y\":2,\"yref\":\"y2\"},{\"font\":{\"color\":\"rgb(245,245,245)\",\"family\":\"Arial\",\"size\":16},\"showarrow\":false,\"text\":\"45\",\"x\":2,\"xref\":\"x2\",\"y\":2,\"yref\":\"y2\"},{\"font\":{\"color\":\"rgb(245,245,245)\",\"family\":\"Arial\",\"size\":16},\"showarrow\":false,\"text\":\"0\",\"x\":3,\"xref\":\"x2\",\"y\":2,\"yref\":\"y2\"},{\"font\":{\"color\":\"rgb(245,245,245)\",\"family\":\"Arial\",\"size\":16},\"showarrow\":false,\"text\":\"0\",\"x\":4,\"xref\":\"x2\",\"y\":2,\"yref\":\"y2\"},{\"font\":{\"color\":\"rgb(245,245,245)\",\"family\":\"Arial\",\"size\":16},\"showarrow\":false,\"text\":\"0\",\"x\":5,\"xref\":\"x2\",\"y\":2,\"yref\":\"y2\"},{\"font\":{\"color\":\"rgb(245,245,245)\",\"family\":\"Arial\",\"size\":16},\"showarrow\":false,\"text\":\"0\",\"x\":1,\"xref\":\"x2\",\"y\":3,\"yref\":\"y2\"},{\"font\":{\"color\":\"rgb(245,245,245)\",\"family\":\"Arial\",\"size\":16},\"showarrow\":false,\"text\":\"0\",\"x\":2,\"xref\":\"x2\",\"y\":3,\"yref\":\"y2\"},{\"font\":{\"color\":\"rgb(245,245,245)\",\"family\":\"Arial\",\"size\":16},\"showarrow\":false,\"text\":\"408\",\"x\":3,\"xref\":\"x2\",\"y\":3,\"yref\":\"y2\"},{\"font\":{\"color\":\"rgb(245,245,245)\",\"family\":\"Arial\",\"size\":16},\"showarrow\":false,\"text\":\"0\",\"x\":4,\"xref\":\"x2\",\"y\":3,\"yref\":\"y2\"},{\"font\":{\"color\":\"rgb(245,245,245)\",\"family\":\"Arial\",\"size\":16},\"showarrow\":false,\"text\":\"0\",\"x\":5,\"xref\":\"x2\",\"y\":3,\"yref\":\"y2\"},{\"font\":{\"color\":\"rgb(245,245,245)\",\"family\":\"Arial\",\"size\":16},\"showarrow\":false,\"text\":\"0\",\"x\":1,\"xref\":\"x2\",\"y\":4,\"yref\":\"y2\"},{\"font\":{\"color\":\"rgb(245,245,245)\",\"family\":\"Arial\",\"size\":16},\"showarrow\":false,\"text\":\"0\",\"x\":2,\"xref\":\"x2\",\"y\":4,\"yref\":\"y2\"},{\"font\":{\"color\":\"rgb(245,245,245)\",\"family\":\"Arial\",\"size\":16},\"showarrow\":false,\"text\":\"0\",\"x\":3,\"xref\":\"x2\",\"y\":4,\"yref\":\"y2\"},{\"font\":{\"color\":\"rgb(245,245,245)\",\"family\":\"Arial\",\"size\":16},\"showarrow\":false,\"text\":\"521\",\"x\":4,\"xref\":\"x2\",\"y\":4,\"yref\":\"y2\"},{\"font\":{\"color\":\"rgb(245,245,245)\",\"family\":\"Arial\",\"size\":16},\"showarrow\":false,\"text\":\"0\",\"x\":5,\"xref\":\"x2\",\"y\":4,\"yref\":\"y2\"},{\"font\":{\"color\":\"rgb(245,245,245)\",\"family\":\"Arial\",\"size\":16},\"showarrow\":false,\"text\":\"0\",\"x\":1,\"xref\":\"x2\",\"y\":5,\"yref\":\"y2\"},{\"font\":{\"color\":\"rgb(245,245,245)\",\"family\":\"Arial\",\"size\":16},\"showarrow\":false,\"text\":\"0\",\"x\":2,\"xref\":\"x2\",\"y\":5,\"yref\":\"y2\"},{\"font\":{\"color\":\"rgb(245,245,245)\",\"family\":\"Arial\",\"size\":16},\"showarrow\":false,\"text\":\"0\",\"x\":3,\"xref\":\"x2\",\"y\":5,\"yref\":\"y2\"},{\"font\":{\"color\":\"rgb(245,245,245)\",\"family\":\"Arial\",\"size\":16},\"showarrow\":false,\"text\":\"0\",\"x\":4,\"xref\":\"x2\",\"y\":5,\"yref\":\"y2\"},{\"font\":{\"color\":\"rgb(245,245,245)\",\"family\":\"Arial\",\"size\":16},\"showarrow\":false,\"text\":\"124\",\"x\":5,\"xref\":\"x2\",\"y\":5,\"yref\":\"y2\"},{\"font\":{\"color\":\"rgb(50, 171, 96)\",\"family\":\"Arial\",\"size\":14},\"showarrow\":false,\"text\":\"100.0%\",\"x\":108.0,\"xref\":\"x\",\"y\":\"[5] - S. aureus         \",\"yref\":\"y\"},{\"font\":{\"color\":\"rgb(50, 171, 96)\",\"family\":\"Arial\",\"size\":14},\"showarrow\":false,\"text\":\"100.0%\",\"x\":108.0,\"xref\":\"x\",\"y\":\"[4] - K. pneumoniae \",\"yref\":\"y\"},{\"font\":{\"color\":\"rgb(50, 171, 96)\",\"family\":\"Arial\",\"size\":14},\"showarrow\":false,\"text\":\"100.0%\",\"x\":108.0,\"xref\":\"x\",\"y\":\"[3] - E. coli              \",\"yref\":\"y\"},{\"font\":{\"color\":\"rgb(50, 171, 96)\",\"family\":\"Arial\",\"size\":14},\"showarrow\":false,\"text\":\"100.0%\",\"x\":108.0,\"xref\":\"x\",\"y\":\"[2] - B. subtilis        \",\"yref\":\"y\"},{\"font\":{\"color\":\"rgb(50, 171, 96)\",\"family\":\"Arial\",\"size\":14},\"showarrow\":false,\"text\":\"100.0%\",\"x\":108.0,\"xref\":\"x\",\"y\":\"[1] - Acinetobacter  \",\"yref\":\"y\"}],\"autosize\":false,\"legend\":{\"font\":{\"size\":10},\"x\":0.029,\"y\":1.038},\"margin\":{\"b\":50,\"l\":5,\"r\":5,\"t\":50},\"paper_bgcolor\":\"rgb(248, 248, 255)\",\"plot_bgcolor\":\"rgb(248, 248, 255)\",\"template\":{\"data\":{\"bar\":[{\"error_x\":{\"color\":\"#2a3f5f\"},\"error_y\":{\"color\":\"#2a3f5f\"},\"marker\":{\"line\":{\"color\":\"#E5ECF6\",\"width\":0.5},\"pattern\":{\"fillmode\":\"overlay\",\"size\":10,\"solidity\":0.2}},\"type\":\"bar\"}],\"barpolar\":[{\"marker\":{\"line\":{\"color\":\"#E5ECF6\",\"width\":0.5},\"pattern\":{\"fillmode\":\"overlay\",\"size\":10,\"solidity\":0.2}},\"type\":\"barpolar\"}],\"carpet\":[{\"aaxis\":{\"endlinecolor\":\"#2a3f5f\",\"gridcolor\":\"white\",\"linecolor\":\"white\",\"minorgridcolor\":\"white\",\"startlinecolor\":\"#2a3f5f\"},\"baxis\":{\"endlinecolor\":\"#2a3f5f\",\"gridcolor\":\"white\",\"linecolor\":\"white\",\"minorgridcolor\":\"white\",\"startlinecolor\":\"#2a3f5f\"},\"type\":\"carpet\"}],\"choropleth\":[{\"colorbar\":{\"outlinewidth\":0,\"ticks\":\"\"},\"type\":\"choropleth\"}],\"contour\":[{\"colorbar\":{\"outlinewidth\":0,\"ticks\":\"\"},\"colorscale\":[[0.0,\"#0d0887\"],[0.1111111111111111,\"#46039f\"],[0.2222222222222222,\"#7201a8\"],[0.3333333333333333,\"#9c179e\"],[0.4444444444444444,\"#bd3786\"],[0.5555555555555556,\"#d8576b\"],[0.6666666666666666,\"#ed7953\"],[0.7777777777777778,\"#fb9f3a\"],[0.8888888888888888,\"#fdca26\"],[1.0,\"#f0f921\"]],\"type\":\"contour\"}],\"contourcarpet\":[{\"colorbar\":{\"outlinewidth\":0,\"ticks\":\"\"},\"type\":\"contourcarpet\"}],\"heatmap\":[{\"colorbar\":{\"outlinewidth\":0,\"ticks\":\"\"},\"colorscale\":[[0.0,\"#0d0887\"],[0.1111111111111111,\"#46039f\"],[0.2222222222222222,\"#7201a8\"],[0.3333333333333333,\"#9c179e\"],[0.4444444444444444,\"#bd3786\"],[0.5555555555555556,\"#d8576b\"],[0.6666666666666666,\"#ed7953\"],[0.7777777777777778,\"#fb9f3a\"],[0.8888888888888888,\"#fdca26\"],[1.0,\"#f0f921\"]],\"type\":\"heatmap\"}],\"heatmapgl\":[{\"colorbar\":{\"outlinewidth\":0,\"ticks\":\"\"},\"colorscale\":[[0.0,\"#0d0887\"],[0.1111111111111111,\"#46039f\"],[0.2222222222222222,\"#7201a8\"],[0.3333333333333333,\"#9c179e\"],[0.4444444444444444,\"#bd3786\"],[0.5555555555555556,\"#d8576b\"],[0.6666666666666666,\"#ed7953\"],[0.7777777777777778,\"#fb9f3a\"],[0.8888888888888888,\"#fdca26\"],[1.0,\"#f0f921\"]],\"type\":\"heatmapgl\"}],\"histogram\":[{\"marker\":{\"pattern\":{\"fillmode\":\"overlay\",\"size\":10,\"solidity\":0.2}},\"type\":\"histogram\"}],\"histogram2d\":[{\"colorbar\":{\"outlinewidth\":0,\"ticks\":\"\"},\"colorscale\":[[0.0,\"#0d0887\"],[0.1111111111111111,\"#46039f\"],[0.2222222222222222,\"#7201a8\"],[0.3333333333333333,\"#9c179e\"],[0.4444444444444444,\"#bd3786\"],[0.5555555555555556,\"#d8576b\"],[0.6666666666666666,\"#ed7953\"],[0.7777777777777778,\"#fb9f3a\"],[0.8888888888888888,\"#fdca26\"],[1.0,\"#f0f921\"]],\"type\":\"histogram2d\"}],\"histogram2dcontour\":[{\"colorbar\":{\"outlinewidth\":0,\"ticks\":\"\"},\"colorscale\":[[0.0,\"#0d0887\"],[0.1111111111111111,\"#46039f\"],[0.2222222222222222,\"#7201a8\"],[0.3333333333333333,\"#9c179e\"],[0.4444444444444444,\"#bd3786\"],[0.5555555555555556,\"#d8576b\"],[0.6666666666666666,\"#ed7953\"],[0.7777777777777778,\"#fb9f3a\"],[0.8888888888888888,\"#fdca26\"],[1.0,\"#f0f921\"]],\"type\":\"histogram2dcontour\"}],\"mesh3d\":[{\"colorbar\":{\"outlinewidth\":0,\"ticks\":\"\"},\"type\":\"mesh3d\"}],\"parcoords\":[{\"line\":{\"colorbar\":{\"outlinewidth\":0,\"ticks\":\"\"}},\"type\":\"parcoords\"}],\"pie\":[{\"automargin\":true,\"type\":\"pie\"}],\"scatter\":[{\"marker\":{\"colorbar\":{\"outlinewidth\":0,\"ticks\":\"\"}},\"type\":\"scatter\"}],\"scatter3d\":[{\"line\":{\"colorbar\":{\"outlinewidth\":0,\"ticks\":\"\"}},\"marker\":{\"colorbar\":{\"outlinewidth\":0,\"ticks\":\"\"}},\"type\":\"scatter3d\"}],\"scattercarpet\":[{\"marker\":{\"colorbar\":{\"outlinewidth\":0,\"ticks\":\"\"}},\"type\":\"scattercarpet\"}],\"scattergeo\":[{\"marker\":{\"colorbar\":{\"outlinewidth\":0,\"ticks\":\"\"}},\"type\":\"scattergeo\"}],\"scattergl\":[{\"marker\":{\"colorbar\":{\"outlinewidth\":0,\"ticks\":\"\"}},\"type\":\"scattergl\"}],\"scattermapbox\":[{\"marker\":{\"colorbar\":{\"outlinewidth\":0,\"ticks\":\"\"}},\"type\":\"scattermapbox\"}],\"scatterpolar\":[{\"marker\":{\"colorbar\":{\"outlinewidth\":0,\"ticks\":\"\"}},\"type\":\"scatterpolar\"}],\"scatterpolargl\":[{\"marker\":{\"colorbar\":{\"outlinewidth\":0,\"ticks\":\"\"}},\"type\":\"scatterpolargl\"}],\"scatterternary\":[{\"marker\":{\"colorbar\":{\"outlinewidth\":0,\"ticks\":\"\"}},\"type\":\"scatterternary\"}],\"surface\":[{\"colorbar\":{\"outlinewidth\":0,\"ticks\":\"\"},\"colorscale\":[[0.0,\"#0d0887\"],[0.1111111111111111,\"#46039f\"],[0.2222222222222222,\"#7201a8\"],[0.3333333333333333,\"#9c179e\"],[0.4444444444444444,\"#bd3786\"],[0.5555555555555556,\"#d8576b\"],[0.6666666666666666,\"#ed7953\"],[0.7777777777777778,\"#fb9f3a\"],[0.8888888888888888,\"#fdca26\"],[1.0,\"#f0f921\"]],\"type\":\"surface\"}],\"table\":[{\"cells\":{\"fill\":{\"color\":\"#EBF0F8\"},\"line\":{\"color\":\"white\"}},\"header\":{\"fill\":{\"color\":\"#C8D4E3\"},\"line\":{\"color\":\"white\"}},\"type\":\"table\"}]},\"layout\":{\"annotationdefaults\":{\"arrowcolor\":\"#2a3f5f\",\"arrowhead\":0,\"arrowwidth\":1},\"autotypenumbers\":\"strict\",\"coloraxis\":{\"colorbar\":{\"outlinewidth\":0,\"ticks\":\"\"}},\"colorscale\":{\"diverging\":[[0,\"#8e0152\"],[0.1,\"#c51b7d\"],[0.2,\"#de77ae\"],[0.3,\"#f1b6da\"],[0.4,\"#fde0ef\"],[0.5,\"#f7f7f7\"],[0.6,\"#e6f5d0\"],[0.7,\"#b8e186\"],[0.8,\"#7fbc41\"],[0.9,\"#4d9221\"],[1,\"#276419\"]],\"sequential\":[[0.0,\"#0d0887\"],[0.1111111111111111,\"#46039f\"],[0.2222222222222222,\"#7201a8\"],[0.3333333333333333,\"#9c179e\"],[0.4444444444444444,\"#bd3786\"],[0.5555555555555556,\"#d8576b\"],[0.6666666666666666,\"#ed7953\"],[0.7777777777777778,\"#fb9f3a\"],[0.8888888888888888,\"#fdca26\"],[1.0,\"#f0f921\"]],\"sequentialminus\":[[0.0,\"#0d0887\"],[0.1111111111111111,\"#46039f\"],[0.2222222222222222,\"#7201a8\"],[0.3333333333333333,\"#9c179e\"],[0.4444444444444444,\"#bd3786\"],[0.5555555555555556,\"#d8576b\"],[0.6666666666666666,\"#ed7953\"],[0.7777777777777778,\"#fb9f3a\"],[0.8888888888888888,\"#fdca26\"],[1.0,\"#f0f921\"]]},\"colorway\":[\"#636efa\",\"#EF553B\",\"#00cc96\",\"#ab63fa\",\"#FFA15A\",\"#19d3f3\",\"#FF6692\",\"#B6E880\",\"#FF97FF\",\"#FECB52\"],\"font\":{\"color\":\"#2a3f5f\"},\"geo\":{\"bgcolor\":\"white\",\"lakecolor\":\"white\",\"landcolor\":\"#E5ECF6\",\"showlakes\":true,\"showland\":true,\"subunitcolor\":\"white\"},\"hoverlabel\":{\"align\":\"left\"},\"hovermode\":\"closest\",\"mapbox\":{\"style\":\"light\"},\"paper_bgcolor\":\"white\",\"plot_bgcolor\":\"#E5ECF6\",\"polar\":{\"angularaxis\":{\"gridcolor\":\"white\",\"linecolor\":\"white\",\"ticks\":\"\"},\"bgcolor\":\"#E5ECF6\",\"radialaxis\":{\"gridcolor\":\"white\",\"linecolor\":\"white\",\"ticks\":\"\"}},\"scene\":{\"xaxis\":{\"backgroundcolor\":\"#E5ECF6\",\"gridcolor\":\"white\",\"gridwidth\":2,\"linecolor\":\"white\",\"showbackground\":true,\"ticks\":\"\",\"zerolinecolor\":\"white\"},\"yaxis\":{\"backgroundcolor\":\"#E5ECF6\",\"gridcolor\":\"white\",\"gridwidth\":2,\"linecolor\":\"white\",\"showbackground\":true,\"ticks\":\"\",\"zerolinecolor\":\"white\"},\"zaxis\":{\"backgroundcolor\":\"#E5ECF6\",\"gridcolor\":\"white\",\"gridwidth\":2,\"linecolor\":\"white\",\"showbackground\":true,\"ticks\":\"\",\"zerolinecolor\":\"white\"}},\"shapedefaults\":{\"line\":{\"color\":\"#2a3f5f\"}},\"ternary\":{\"aaxis\":{\"gridcolor\":\"white\",\"linecolor\":\"white\",\"ticks\":\"\"},\"baxis\":{\"gridcolor\":\"white\",\"linecolor\":\"white\",\"ticks\":\"\"},\"bgcolor\":\"#E5ECF6\",\"caxis\":{\"gridcolor\":\"white\",\"linecolor\":\"white\",\"ticks\":\"\"}},\"title\":{\"x\":0.05},\"xaxis\":{\"automargin\":true,\"gridcolor\":\"white\",\"linecolor\":\"white\",\"ticks\":\"\",\"title\":{\"standoff\":15},\"zerolinecolor\":\"white\",\"zerolinewidth\":2},\"yaxis\":{\"automargin\":true,\"gridcolor\":\"white\",\"linecolor\":\"white\",\"ticks\":\"\",\"title\":{\"standoff\":15},\"zerolinecolor\":\"white\",\"zerolinewidth\":2}}},\"title\":{\"text\":\"Bacteria Species Prediction\"},\"width\":1250,\"xaxis\":{\"anchor\":\"y\",\"domain\":[0.0,0.45],\"linecolor\":\"black\",\"linewidth\":1,\"showgrid\":true,\"showline\":true,\"showticklabels\":true,\"ticks\":\"outside\",\"title\":{\"text\":\"Accuracy\"},\"zeroline\":false},\"xaxis2\":{\"anchor\":\"y2\",\"domain\":[0.55,1.0],\"dtick\":2,\"title\":{\"text\":\"Groundtruth\"}},\"yaxis\":{\"anchor\":\"x\",\"domain\":[0.0,1.0],\"linecolor\":\"black\",\"linewidth\":1,\"showgrid\":true,\"showline\":true,\"showticklabels\":true,\"ticks\":\"inside\"},\"yaxis2\":{\"anchor\":\"x2\",\"domain\":[0.0,1.0],\"dtick\":2,\"title\":{\"text\":\"Prediction\"}}},                        {\"responsive\": true}                    ).then(function(){\n",
       "                            \n",
       "var gd = document.getElementById('ee103b4f-8af2-4da4-b3ce-9a8cfa0a2a58');\n",
       "var x = new MutationObserver(function (mutations, observer) {{\n",
       "        var display = window.getComputedStyle(gd).display;\n",
       "        if (!display || display === 'none') {{\n",
       "            console.log([gd, 'removed!']);\n",
       "            Plotly.purge(gd);\n",
       "            observer.disconnect();\n",
       "        }}\n",
       "}});\n",
       "\n",
       "// Listen for the removal of the full notebook cells\n",
       "var notebookContainer = gd.closest('#notebook-container');\n",
       "if (notebookContainer) {{\n",
       "    x.observe(notebookContainer, {childList: true});\n",
       "}}\n",
       "\n",
       "// Listen for the clearing of the current output cell\n",
       "var outputEl = gd.closest('.output');\n",
       "if (outputEl) {{\n",
       "    x.observe(outputEl, {childList: true});\n",
       "}}\n",
       "\n",
       "                        })                };                });            </script>        </div>"
      ]
     },
     "metadata": {},
     "output_type": "display_data"
    }
   ],
   "source": [
    "import plotly.graph_objects as go\n",
    "from plotly.subplots import make_subplots\n",
    "import plotly.express as px\n",
    "import numpy as np\n",
    "\n",
    "y_saving = [1.0, 1.0, 1.0, 1.0, 1.0]\n",
    "\n",
    "for x,val in enumerate(y_saving):\n",
    "    y_saving[x] = val*100\n",
    "    \n",
    "\n",
    "\n",
    "y_net_worth = y_saving\n",
    "\n",
    "\n",
    "# x = ['Acinetobacter','B subtilis','E. coli K12','S. aureus','E. coli (CCUG17620)','E. coli (NCTC13441)','E. coli (A2-39)','K. pneumoniae (A2-23)','S. aureus (CCUG35600)','E. coli (101)','E. coli (102)','E. coli (104)','K. pneumoniae (210)','K. pneumoniae (211)','K. pneumoniae (212)','K. pneumoniae (240)','Acinetobacter K12-21','Acinetobacter K48-42','Acinetobacter K55-13','Acinetobacter K57-06','Acinetobacter K71-71'][::-1]\n",
    "\n",
    "x = ['Acinetobacter  ', \n",
    "     'B. subtilis        ', \n",
    "     'E. coli              ', \n",
    "     'K. pneumoniae ', \n",
    "     'S. aureus         '][::-1]\n",
    "\n",
    "\n",
    "\n",
    "\n",
    "x_ = []\n",
    "\n",
    "for idx, k in enumerate(x):\n",
    "    x_.append(idx+1)\n",
    "    x[idx] = f\"[{5-idx}] - {k}\"\n",
    "    \n",
    "    \n",
    "    \n",
    "# Creating two subplots\n",
    "fig = make_subplots(rows=1, cols=2, specs=[[{}, {}]], shared_xaxes=True,\n",
    "                    shared_yaxes=False, vertical_spacing=0)\n",
    "\n",
    "fig.append_trace(go.Bar(\n",
    "    x=y_saving,\n",
    "    y=x,\n",
    "    marker=dict(\n",
    "        color='rgba(50, 171, 96, 0.6)',\n",
    "        line=dict(\n",
    "            color='rgba(50, 171, 96, 1.0)',\n",
    "            width=1),\n",
    "    ),\n",
    "    name='Accuracy',\n",
    "    orientation='h',\n",
    "), 1, 1)\n",
    "\n",
    "# fig.append_trace(go.Scatter(\n",
    "#     x=y_net_worth, y=x,\n",
    "#     mode='lines+markers',\n",
    "#     line_color='rgb(128, 0, 128)',\n",
    "#     name='Household net worth, Million USD/capita',\n",
    "# ), 1, 2)\n",
    "\n",
    "\n",
    "# set up figure \n",
    "\n",
    "fig.add_trace(go.Heatmap(x = x_, y= x_, z = z_,opacity=0.8, xgap = 1,ygap=1, coloraxis = \"coloraxis\", ),1,2)\n",
    "\n",
    "\n",
    "\n",
    "# fig.append_trace(fig_,1,2)\n",
    "\n",
    "\n",
    "fig.update_layout(\n",
    "    title='Bacteria Species Prediction',\n",
    "    yaxis=dict(\n",
    "        showgrid=True,\n",
    "        showline=True,\n",
    "        linecolor='black',\n",
    "        linewidth=1, \n",
    "        showticklabels=True,ticks=\"inside\"\n",
    "    ),\n",
    "#     yaxis2=dict(\n",
    "#         showgrid=False,\n",
    "#         showline=True,\n",
    "#         showticklabels=False,\n",
    "#         linecolor='rgba(102, 102, 102, 0.8)',\n",
    "#         linewidth=2,\n",
    "#         domain=[0, 0.85],\n",
    "#     ),\n",
    "    \n",
    "    yaxis2=dict(dtick=2,\n",
    "                title={'text': \"Prediction\"}\n",
    "               ),\n",
    "    xaxis=dict(  title={'text': \"Accuracy\"},\n",
    "        zeroline=False,\n",
    "        showline=True,\n",
    "        linecolor='black',ticks=\"outside\",\n",
    "        showticklabels=True,\n",
    "               linewidth=1, \n",
    "        showgrid=True,\n",
    "    ),\n",
    "    xaxis2=dict(dtick=2, \n",
    "            title={'text': \"Groundtruth\"}\n",
    "           ),\n",
    "#     xaxis2=dict(\n",
    "#         zeroline=False,\n",
    "#         showline=False,\n",
    "#         showticklabels=True,\n",
    "#         showgrid=True,\n",
    "#         domain=[0.47, 1],\n",
    "#         side='top',\n",
    "#         dtick=25000,\n",
    "#     ),\n",
    "    legend=dict(x=0.029, y=1.038, font_size=10), \n",
    "    margin=dict(l=5, r=5, t=50, b=50),\n",
    "    paper_bgcolor='rgb(248, 248, 255)',\n",
    "    plot_bgcolor='rgb(248, 248, 255)',\n",
    ")\n",
    "\n",
    "\n",
    "annotations = []\n",
    "for n, row in enumerate(z_):\n",
    "    for m, val in enumerate(row):\n",
    "        annotations.append(dict(text=str(z_[n][m]), x=x_[m], y=x_[n],\n",
    "                                         xref='x2', yref='y2', showarrow=False, font=dict(family='Arial', size=16,\n",
    "                                      color='rgb(245,245,245)')))\n",
    "\n",
    "\n",
    "fig.update_layout(\n",
    "    width = 1250,\n",
    "    autosize=False\n",
    ")\n",
    "\n",
    "\n",
    "\n",
    "y_s = np.round(y_saving, decimals=2)\n",
    "y_nw = np.rint(y_net_worth)\n",
    "\n",
    "# Adding labels\n",
    "for ydn, yd, xd in zip(y_nw, y_s, x):\n",
    "    # labeling the scatter savings\n",
    "#     annotations.append(dict(xref='x2', yref='y2',\n",
    "#                             y=xd, x=ydn - 20000,\n",
    "#                             text='{:,}'.format(ydn) + 'M',\n",
    "#                             font=dict(family='Arial', size=12,\n",
    "#                                       color='rgb(128, 0, 128)'),\n",
    "#                             showarrow=False))\n",
    "    # labeling the bar net worth\n",
    "    annotations.append(dict(xref='x1', yref='y1',\n",
    "                            y=xd, x=yd + 8,\n",
    "                            text=str(yd) + '%',\n",
    "                            font=dict(family='Arial', size=14,\n",
    "                                      color='rgb(50, 171, 96)'),\n",
    "                            showarrow=False))\n",
    "\n",
    "fig.update_layout(annotations=annotations)\n",
    "\n",
    "fig.show()\n",
    "fig.write_image(\"species.pdf\")"
   ]
  },
  {
   "cell_type": "code",
   "execution_count": null,
   "metadata": {},
   "outputs": [],
   "source": []
  },
  {
   "cell_type": "code",
   "execution_count": null,
   "metadata": {},
   "outputs": [],
   "source": []
  },
  {
   "cell_type": "code",
   "execution_count": null,
   "metadata": {},
   "outputs": [],
   "source": []
  },
  {
   "cell_type": "code",
   "execution_count": 2,
   "metadata": {},
   "outputs": [
    {
     "data": {
      "text/plain": [
       "['Acinetobacter', 'B. subtilis', 'E. coli', 'K. pneumoniae', 'S. aureus']"
      ]
     },
     "execution_count": 2,
     "metadata": {},
     "output_type": "execute_result"
    }
   ],
   "source": [
    "x_"
   ]
  },
  {
   "cell_type": "code",
   "execution_count": null,
   "metadata": {},
   "outputs": [],
   "source": []
  }
 ],
 "metadata": {
  "kernelspec": {
   "display_name": "Python 3",
   "language": "python",
   "name": "python3"
  },
  "language_info": {
   "codemirror_mode": {
    "name": "ipython",
    "version": 3
   },
   "file_extension": ".py",
   "mimetype": "text/x-python",
   "name": "python",
   "nbconvert_exporter": "python",
   "pygments_lexer": "ipython3",
   "version": "3.7.3"
  }
 },
 "nbformat": 4,
 "nbformat_minor": 4
}
