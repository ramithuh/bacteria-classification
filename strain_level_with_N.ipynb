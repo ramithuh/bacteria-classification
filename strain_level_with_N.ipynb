{
 "cells": [
  {
   "cell_type": "code",
   "execution_count": 1,
   "id": "0a8a2626-a5b7-4fb2-8808-f50eca02222b",
   "metadata": {},
   "outputs": [],
   "source": [
    "from __future__ import print_function, division\n",
    "\n",
    "import os\n",
    "import time\n",
    "import copy\n",
    "import numpy as np\n",
    "import matplotlib.pyplot as plt\n",
    "\n",
    "\n",
    "import torch\n",
    "import torch.nn as nn\n",
    "import torch.nn.functional as F\n",
    "import torch.optim as optim\n",
    "from torch.optim import lr_scheduler\n",
    "import torchvision\n",
    "from torchvision import datasets, models, transforms\n",
    "from torchsummary import summary\n",
    "from torchmetrics.classification import Accuracy\n",
    "from sklearn.metrics import confusion_matrix\n",
    "import plotly.graph_objs as go\n",
    "\n",
    "import sys\n",
    "sys.path.append('../')\n",
    "\n",
    "from modules.helpers import *\n",
    "from modules.datasets import *\n",
    "from modules.train_utils import train_model\n",
    "from modules.dataloaders import *\n",
    "from modules.test_utils import test_model"
   ]
  },
  {
   "cell_type": "markdown",
   "id": "c31ca2fc-35f1-476e-9033-7c05d1305ec6",
   "metadata": {},
   "source": [
    "### Initialize wandb and load model"
   ]
  },
  {
   "cell_type": "code",
   "execution_count": 2,
   "id": "fef89378-8c3b-41de-838a-a064f8171e4b",
   "metadata": {},
   "outputs": [],
   "source": [
    "path = \"/n/home12/ramith/FYP/bacteria-classification/results/Strain Classification - Resnet 181645133846.9762254/latest_model_epoch-7.pth\"\n",
    "saved = torch.load(path)\n",
    "cfg   = saved['cfg']"
   ]
  },
  {
   "cell_type": "code",
   "execution_count": 3,
   "id": "323a7942-aa95-456e-a296-b3e0ad304191",
   "metadata": {},
   "outputs": [],
   "source": [
    "device = torch.device(\"cuda:0\" if torch.cuda.is_available() else \"cpu\")\n",
    "\n",
    "n_c = cfg['n_classes']\n",
    "\n",
    "class_names = [x for x in range(0, n_c)]\n",
    "\n",
    "if(n_c == 21):\n",
    "    class_names = ['Acinetobacter','B subtilis','E. coli K12','S. aureus','E. coli (CCUG17620)','E. coli (NCTC13441)','E. coli (A2-39)','K. pneumoniae (A2-23)','S. aureus (CCUG35600)','E. coli (101)','E. coli (102)','E. coli (104)','K. pneumoniae (210)','K. pneumoniae (211)','K. pneumoniae (212)','K. pneumoniae (240)','Acinetobacter K12-21','Acinetobacter K48-42','Acinetobacter K55-13','Acinetobacter K57-06','Acinetobacter K71-71']\n",
    "elif(n_c == 5):\n",
    "    class_names = ['Acinetobacter', 'B. subtilis', 'E. coli', 'K. pneumoniae', 'S. aureus']\n"
   ]
  },
  {
   "cell_type": "code",
   "execution_count": 4,
   "id": "06e35bcc-6243-4f5e-b19b-6c719e6c7ac7",
   "metadata": {},
   "outputs": [
    {
     "data": {
      "text/plain": [
       "{'learning_rate': 0.01,\n",
       " 'epochs': 15,\n",
       " 'pretrained_resnet': True,\n",
       " 'img_size': 224,\n",
       " 'n_classes': 21,\n",
       " 'label_type': 'class',\n",
       " 'balanced_mode': False,\n",
       " 'expand_channels': True,\n",
       " 'dataset_sizes': {'train': 375424, 'val': 48544, 'test': 48768}}"
      ]
     },
     "execution_count": 4,
     "metadata": {},
     "output_type": "execute_result"
    }
   ],
   "source": [
    "cfg"
   ]
  },
  {
   "cell_type": "code",
   "execution_count": 5,
   "id": "73bfce45-03c4-41c5-8341-c583da8711e1",
   "metadata": {},
   "outputs": [],
   "source": [
    "model_ft = models.resnet18(pretrained=cfg['pretrained_resnet'])\n",
    "\n",
    "num_ftrs = model_ft.fc.in_features\n",
    "\n",
    "model_ft.fc = nn.Linear(num_ftrs, n_c)\n",
    "\n",
    "model_ft = model_ft.to(device)"
   ]
  },
  {
   "cell_type": "code",
   "execution_count": 6,
   "id": "1e5cfdc8-35aa-4b08-aeae-777e9cd35ad8",
   "metadata": {},
   "outputs": [],
   "source": [
    "model = model_ft\n",
    "model.load_state_dict(saved['state_dict']);\n",
    "model.eval();"
   ]
  },
  {
   "cell_type": "code",
   "execution_count": null,
   "id": "e4254fdb-81ff-476c-97d4-437d6d3e481b",
   "metadata": {},
   "outputs": [],
   "source": []
  },
  {
   "cell_type": "code",
   "execution_count": null,
   "id": "db009aac-9856-42d4-ac96-d78e522ad527",
   "metadata": {},
   "outputs": [],
   "source": []
  },
  {
   "cell_type": "markdown",
   "id": "fb1cee6f-3e5b-480d-9449-78baace5f55d",
   "metadata": {},
   "source": [
    "### Initialize Class Specific Dataloaders"
   ]
  },
  {
   "cell_type": "code",
   "execution_count": 7,
   "id": "8de069d6-1fa7-434e-af21-363e031ca087",
   "metadata": {},
   "outputs": [],
   "source": [
    "data_dir = '/n/holyscratch01/wadduwage_lab/D2NN_QPM_classification/datasets/bacteria/'"
   ]
  },
  {
   "cell_type": "code",
   "execution_count": 8,
   "id": "62c3ef8b-a962-425d-91ad-f56ab1497dae",
   "metadata": {},
   "outputs": [
    {
     "name": "stdout",
     "output_type": "stream",
     "text": [
      "Dataset type train label type: class -> Loaded 375443 images\n",
      "Dataset type val label type: class -> Loaded 48562 images\n",
      "Dataset type test label type: class -> Loaded 48790 images\n",
      "=====\n",
      "Dataset type test; dataloder will have label type: class -> All files = 48790\n",
      "Loaded 1561 images only from class 0\n",
      "=====\n",
      "Dataset type test; dataloder will have label type: class -> All files = 48790\n",
      "Loaded 1404 images only from class 1\n",
      "=====\n",
      "Dataset type test; dataloder will have label type: class -> All files = 48790\n",
      "Loaded 1668 images only from class 2\n",
      "=====\n",
      "Dataset type test; dataloder will have label type: class -> All files = 48790\n",
      "Loaded 1937 images only from class 3\n",
      "=====\n",
      "Dataset type test; dataloder will have label type: class -> All files = 48790\n",
      "Loaded 3114 images only from class 4\n",
      "=====\n",
      "Dataset type test; dataloder will have label type: class -> All files = 48790\n",
      "Loaded 1396 images only from class 5\n",
      "=====\n",
      "Dataset type test; dataloder will have label type: class -> All files = 48790\n",
      "Loaded 2030 images only from class 6\n",
      "=====\n",
      "Dataset type test; dataloder will have label type: class -> All files = 48790\n",
      "Loaded 2894 images only from class 7\n",
      "=====\n",
      "Dataset type test; dataloder will have label type: class -> All files = 48790\n",
      "Loaded 1929 images only from class 8\n",
      "=====\n",
      "Dataset type test; dataloder will have label type: class -> All files = 48790\n",
      "Loaded 2135 images only from class 9\n",
      "=====\n",
      "Dataset type test; dataloder will have label type: class -> All files = 48790\n",
      "Loaded 1343 images only from class 10\n",
      "=====\n",
      "Dataset type test; dataloder will have label type: class -> All files = 48790\n",
      "Loaded 976 images only from class 11\n",
      "=====\n",
      "Dataset type test; dataloder will have label type: class -> All files = 48790\n",
      "Loaded 3483 images only from class 12\n",
      "=====\n",
      "Dataset type test; dataloder will have label type: class -> All files = 48790\n",
      "Loaded 2639 images only from class 13\n",
      "=====\n",
      "Dataset type test; dataloder will have label type: class -> All files = 48790\n",
      "Loaded 2281 images only from class 14\n",
      "=====\n",
      "Dataset type test; dataloder will have label type: class -> All files = 48790\n",
      "Loaded 4861 images only from class 15\n",
      "=====\n",
      "Dataset type test; dataloder will have label type: class -> All files = 48790\n",
      "Loaded 3854 images only from class 16\n",
      "=====\n",
      "Dataset type test; dataloder will have label type: class -> All files = 48790\n",
      "Loaded 2214 images only from class 17\n",
      "=====\n",
      "Dataset type test; dataloder will have label type: class -> All files = 48790\n",
      "Loaded 2332 images only from class 18\n",
      "=====\n",
      "Dataset type test; dataloder will have label type: class -> All files = 48790\n",
      "Loaded 2057 images only from class 19\n",
      "=====\n",
      "Dataset type test; dataloder will have label type: class -> All files = 48790\n",
      "Loaded 2682 images only from class 20\n"
     ]
    }
   ],
   "source": [
    "dataloaders = {}\n",
    "\n",
    "N = 31\n",
    "_, _, _, dataset_sizes =  get_bacteria_dataloaders(cfg['img_size'], N , 10, label_type = cfg['label_type'], balanced_mode = False, expand_channels = cfg['expand_channels'])\n",
    "\n",
    "\n",
    "for i in range(0, cfg['n_classes']):\n",
    "    print(\"=====\")\n",
    "    dataloaders[str(i)], _ =  get_bacteria_eval_dataloaders(cfg['img_size'], N , 10, label_type = cfg['label_type'] ,expand_channels = cfg['expand_channels'], isolate_class = i)\n"
   ]
  },
  {
   "cell_type": "code",
   "execution_count": 9,
   "id": "b23e48d7-8a46-49b7-a4d7-79f13529a852",
   "metadata": {},
   "outputs": [],
   "source": [
    "dataset_sizes['test'] = dataset_sizes['test']/N"
   ]
  },
  {
   "cell_type": "code",
   "execution_count": 10,
   "id": "115e0f50-5c8f-4556-bc33-c6ab7f46c6b9",
   "metadata": {},
   "outputs": [],
   "source": [
    "# for inputs, labels in dataloaders[\"1\"]:\n",
    "#     print(\".\", end = '')\n",
    "\n",
    "#     inputs = inputs.to(device,dtype=torch.float)\n",
    "#     labels = labels.to(device)\n",
    "\n",
    "#     outputs = model(inputs)\n",
    "#     _, preds = torch.max(outputs, 1)\n",
    "    \n",
    "#     print(preds)\n",
    "#     print(torch.mode(preds,0)[0])\n",
    "#     print(torch.mode(labels,0)[0])\n",
    "    \n",
    "#     break"
   ]
  },
  {
   "cell_type": "code",
   "execution_count": 11,
   "id": "02cbf7d0-1641-4e1a-a2a2-125cc811756a",
   "metadata": {},
   "outputs": [],
   "source": [
    "\n",
    "criterion = nn.CrossEntropyLoss()"
   ]
  },
  {
   "cell_type": "code",
   "execution_count": 12,
   "id": "4610abc7-96f0-4e6f-a4df-bfce7c92ef73",
   "metadata": {},
   "outputs": [
    {
     "data": {
      "text/plain": [
       "{'train': 375441, 'val': 48544, 'test': 1573.1612903225807}"
      ]
     },
     "execution_count": 12,
     "metadata": {},
     "output_type": "execute_result"
    }
   ],
   "source": [
    "dataset_sizes"
   ]
  },
  {
   "cell_type": "code",
   "execution_count": 13,
   "id": "0d91588b-feb5-48bc-bf07-04183d7b33d5",
   "metadata": {},
   "outputs": [],
   "source": [
    "from modules.test_utils import test_model_in_groups"
   ]
  },
  {
   "cell_type": "code",
   "execution_count": 14,
   "id": "297d75af-2cd5-4d98-b84b-340104f35e73",
   "metadata": {},
   "outputs": [
    {
     "name": "stdout",
     "output_type": "stream",
     "text": [
      "starting group testing..\n",
      "New class eval - 0\n",
      "New class eval - 1\n",
      "New class eval - 2\n",
      "New class eval - 3\n",
      "New class eval - 4\n",
      "New class eval - 5\n",
      "New class eval - 6\n",
      "New class eval - 7\n",
      "New class eval - 8\n",
      "New class eval - 9\n",
      "New class eval - 10\n",
      "New class eval - 11\n",
      "New class eval - 12\n",
      "New class eval - 13\n",
      "New class eval - 14\n",
      "New class eval - 15\n",
      "New class eval - 16\n",
      "New class eval - 17\n",
      "New class eval - 18\n",
      "New class eval - 19\n",
      "New class eval - 20\n",
      "test Loss: 36.2081 Acc: 0.9351\n",
      "[1.0, 1.0, 1.0, 1.0, 1.0, 1.0, 0.5076923370361328, 1.0, 1.0, 1.0, 0.7209302186965942, 1.0, 1.0, 1.0, 1.0, 1.0, 1.0, 1.0, 0.3333333432674408, 1.0, 1.0]\n",
      "\n",
      "testing complete in 12m 49s\n",
      "Test Acc: 0.935060\n"
     ]
    },
    {
     "data": {
      "text/plain": [
       "[[50, 0, 0, 0, 0, 0, 0, 0, 0, 0, 0, 0, 0, 0, 0, 0, 0, 0, 0, 0, 0],\n",
       " [0, 45, 0, 0, 0, 0, 0, 0, 0, 0, 0, 0, 0, 0, 0, 0, 0, 0, 0, 0, 0],\n",
       " [0, 0, 53, 0, 0, 0, 0, 0, 0, 0, 0, 0, 0, 0, 0, 0, 0, 0, 0, 0, 0],\n",
       " [0, 0, 0, 62, 0, 0, 0, 0, 0, 0, 0, 0, 0, 0, 0, 0, 0, 0, 0, 0, 0],\n",
       " [0, 0, 0, 0, 100, 0, 0, 0, 0, 0, 11, 0, 0, 0, 0, 0, 0, 0, 0, 0, 0],\n",
       " [0, 0, 0, 0, 0, 45, 29, 0, 0, 0, 0, 0, 0, 0, 0, 0, 0, 0, 0, 0, 0],\n",
       " [0, 0, 0, 0, 0, 0, 33, 0, 0, 0, 0, 0, 0, 0, 0, 0, 0, 0, 50, 0, 0],\n",
       " [0, 0, 0, 0, 0, 0, 0, 93, 0, 0, 0, 0, 0, 0, 0, 0, 0, 0, 0, 0, 0],\n",
       " [0, 0, 0, 0, 0, 0, 0, 0, 62, 0, 0, 0, 0, 0, 0, 0, 0, 0, 0, 0, 0],\n",
       " [0, 0, 0, 0, 0, 0, 0, 0, 0, 68, 1, 0, 0, 0, 0, 0, 0, 0, 0, 0, 0],\n",
       " [0, 0, 0, 0, 0, 0, 0, 0, 0, 0, 31, 0, 0, 0, 0, 0, 0, 0, 0, 0, 0],\n",
       " [0, 0, 0, 0, 0, 0, 0, 0, 0, 0, 0, 31, 0, 0, 0, 0, 0, 0, 0, 0, 0],\n",
       " [0, 0, 0, 0, 0, 0, 0, 0, 0, 0, 0, 0, 112, 0, 0, 0, 0, 0, 0, 0, 0],\n",
       " [0, 0, 0, 0, 0, 0, 0, 0, 0, 0, 0, 0, 0, 85, 0, 0, 0, 0, 0, 0, 0],\n",
       " [0, 0, 0, 0, 0, 0, 0, 0, 0, 0, 0, 0, 0, 0, 73, 0, 0, 0, 0, 0, 0],\n",
       " [0, 0, 0, 0, 0, 0, 0, 0, 0, 0, 0, 0, 0, 0, 0, 156, 0, 0, 0, 0, 0],\n",
       " [0, 0, 0, 0, 0, 0, 0, 0, 0, 0, 0, 0, 0, 0, 0, 0, 124, 0, 0, 0, 0],\n",
       " [0, 0, 0, 0, 0, 0, 3, 0, 0, 0, 0, 0, 0, 0, 0, 0, 0, 71, 0, 0, 0],\n",
       " [0, 0, 0, 0, 0, 0, 0, 0, 0, 0, 0, 0, 0, 0, 0, 0, 0, 0, 25, 0, 0],\n",
       " [0, 0, 0, 0, 0, 0, 0, 0, 0, 0, 0, 0, 0, 0, 0, 0, 0, 0, 0, 66, 0],\n",
       " [0, 0, 0, 0, 0, 0, 0, 0, 0, 0, 0, 0, 0, 0, 0, 0, 0, 0, 0, 0, 86]]"
      ]
     },
     "execution_count": 14,
     "metadata": {},
     "output_type": "execute_result"
    }
   ],
   "source": [
    "test_model_in_groups(model_ft, [dataloaders, dataset_sizes, class_names] , criterion, n_classes = cfg['n_classes'] , device = device, cfg = cfg)"
   ]
  },
  {
   "cell_type": "code",
   "execution_count": 15,
   "id": "4879b731-69d2-4de0-aa12-e9248bc89e7f",
   "metadata": {},
   "outputs": [],
   "source": [
    "# for inputs, labels in dataloaders[str(0)]: #take a batch of data from each class\n",
    "#     print(\".\", end = '')\n",
    "\n",
    "#     inputs = inputs.to(device,dtype=torch.float)\n",
    "#     labels = labels.to(device)\n",
    "\n",
    "#     outputs = model(inputs)\n",
    "#     _, preds = torch.max(outputs, 1)\n",
    "#     loss = criterion(outputs, labels)\n",
    "\n",
    "#     preds = torch.mode(preds, 0)[0]\n",
    "#     preds = torch.reshape(preds, (-1,))\n",
    "    \n",
    "#     labels = torch.mode(labels, 0)[0]\n",
    "#     labels = torch.reshape(labels, (-1,))\n",
    "#     print(preds)\n",
    "#     print(labels)\n",
    "#     break"
   ]
  },
  {
   "cell_type": "code",
   "execution_count": 33,
   "id": "f9e5d31c-2e0c-4a1b-9111-72cd9bad0f89",
   "metadata": {},
   "outputs": [],
   "source": [
    "# g = torch.Tensor(1)"
   ]
  },
  {
   "cell_type": "code",
   "execution_count": null,
   "id": "dcad3bb6-9d0e-4790-9228-8522999cbd65",
   "metadata": {},
   "outputs": [],
   "source": []
  },
  {
   "cell_type": "code",
   "execution_count": null,
   "id": "1098acbf-ba2b-46c8-a26a-dc7d81550a1c",
   "metadata": {},
   "outputs": [],
   "source": []
  },
  {
   "cell_type": "code",
   "execution_count": null,
   "id": "1dcec376-9def-492f-a041-8d8a70aca1ee",
   "metadata": {},
   "outputs": [],
   "source": []
  },
  {
   "cell_type": "code",
   "execution_count": null,
   "id": "57390bd1-3576-4d91-9a92-d9e87708a7ea",
   "metadata": {},
   "outputs": [],
   "source": []
  },
  {
   "cell_type": "code",
   "execution_count": null,
   "id": "4e80d9fc-2f87-494e-beeb-44a709363c05",
   "metadata": {},
   "outputs": [],
   "source": []
  }
 ],
 "metadata": {
  "kernelspec": {
   "display_name": "fyp_env",
   "language": "python",
   "name": "fyp_env"
  },
  "language_info": {
   "codemirror_mode": {
    "name": "ipython",
    "version": 3
   },
   "file_extension": ".py",
   "mimetype": "text/x-python",
   "name": "python",
   "nbconvert_exporter": "python",
   "pygments_lexer": "ipython3",
   "version": "3.6.13"
  }
 },
 "nbformat": 4,
 "nbformat_minor": 5
}
