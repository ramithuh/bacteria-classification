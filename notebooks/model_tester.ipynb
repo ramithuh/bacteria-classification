{
 "cells": [
  {
   "cell_type": "code",
   "execution_count": 1,
   "id": "ffa461b7-d32c-49cd-9ef9-12afc33e4baa",
   "metadata": {},
   "outputs": [],
   "source": [
    "from __future__ import print_function, division\n",
    "\n",
    "import os\n",
    "import time\n",
    "import copy\n",
    "import numpy as np\n",
    "import matplotlib.pyplot as plt\n",
    "\n",
    "\n",
    "import torch\n",
    "import torch.nn as nn\n",
    "import torch.nn.functional as F\n",
    "import torch.optim as optim\n",
    "from torch.optim import lr_scheduler\n",
    "import torchvision\n",
    "from torchvision import datasets, models, transforms\n",
    "from torchsummary import summary\n",
    "from torchmetrics.classification import Accuracy\n",
    "from sklearn.metrics import confusion_matrix\n",
    "import plotly.graph_objs as go\n",
    "\n",
    "import sys\n",
    "sys.path.append('../')\n",
    "\n",
    "from modules.helpers import *\n",
    "from modules.datasets import *\n",
    "from modules.train_utils import train_model\n",
    "from modules.dataloaders import *\n",
    "from modules.test_utils import test_model"
   ]
  },
  {
   "cell_type": "markdown",
   "id": "46196be6-4d7b-4f3d-866e-73c12d01eb69",
   "metadata": {},
   "source": [
    "### Initialize wandb and load model"
   ]
  },
  {
   "cell_type": "code",
   "execution_count": 2,
   "id": "c024ce6c-4965-49f5-a403-82dae6e05c1a",
   "metadata": {},
   "outputs": [
    {
     "name": "stderr",
     "output_type": "stream",
     "text": [
      "Failed to detect the name of this notebook, you can set it manually with the WANDB_NOTEBOOK_NAME environment variable to enable code saving.\n",
      "\u001b[34m\u001b[1mwandb\u001b[0m: Currently logged in as: \u001b[33mramith\u001b[0m (use `wandb login --relogin` to force relogin)\n"
     ]
    },
    {
     "data": {
      "text/html": [
       "\n",
       "                    Resuming run <strong><a href=\"https://wandb.ai/ramith/bacteria-classification-whole-dataset/runs/183l05jm\" target=\"_blank\">Strain Classification - Resnet 181645133846.9762254</a></strong> to <a href=\"https://wandb.ai/ramith/bacteria-classification-whole-dataset\" target=\"_blank\">Weights & Biases</a> (<a href=\"https://docs.wandb.com/integrations/jupyter.html\" target=\"_blank\">docs</a>).<br/>\n",
       "\n",
       "                "
      ],
      "text/plain": [
       "<IPython.core.display.HTML object>"
      ]
     },
     "metadata": {},
     "output_type": "display_data"
    },
    {
     "data": {
      "text/html": [
       "<button onClick=\"this.nextSibling.style.display='block';this.style.display='none';\">Display W&B run</button><iframe src=\"https://wandb.ai/ramith/bacteria-classification-whole-dataset/runs/183l05jm?jupyter=true\" style=\"border:none;width:100%;height:420px;display:none;\"></iframe>"
      ],
      "text/plain": [
       "<wandb.sdk.wandb_run.Run at 0x2b9791ec1390>"
      ]
     },
     "execution_count": 2,
     "metadata": {},
     "output_type": "execute_result"
    }
   ],
   "source": [
    "import wandb\n",
    "wandb.init(id=\"183l05jm\", project=\"bacteria-classification-whole-dataset\", resume=\"must\")"
   ]
  },
  {
   "cell_type": "code",
   "execution_count": 3,
   "id": "caa6ac82-5c74-42d2-98e6-b8fb285af688",
   "metadata": {},
   "outputs": [],
   "source": [
    "path = \"/n/home12/ramith/FYP/bacteria-classification/results/Strain Classification - Resnet 181645133846.9762254/latest_model_epoch-7.pth\"\n",
    "saved = torch.load(path)\n",
    "cfg   = saved['cfg']"
   ]
  },
  {
   "cell_type": "code",
   "execution_count": 4,
   "id": "5b7f7624-5fca-4dde-9bf2-5bd83e3152cf",
   "metadata": {},
   "outputs": [
    {
     "data": {
      "text/plain": [
       "{'learning_rate': 0.01,\n",
       " 'epochs': 15,\n",
       " 'pretrained_resnet': True,\n",
       " 'img_size': 224,\n",
       " 'n_classes': 21,\n",
       " 'label_type': 'class',\n",
       " 'balanced_mode': False,\n",
       " 'expand_channels': True,\n",
       " 'dataset_sizes': {'train': 375424, 'val': 48544, 'test': 48768}}"
      ]
     },
     "execution_count": 4,
     "metadata": {},
     "output_type": "execute_result"
    }
   ],
   "source": [
    "cfg"
   ]
  },
  {
   "cell_type": "code",
   "execution_count": null,
   "id": "d15143d4-a162-4389-955e-91c9fe43ee39",
   "metadata": {},
   "outputs": [],
   "source": []
  },
  {
   "cell_type": "markdown",
   "id": "9cc843d5-4cca-494e-ab03-23d8485eda66",
   "metadata": {},
   "source": [
    "### Initialize Dataloaders"
   ]
  },
  {
   "cell_type": "code",
   "execution_count": 5,
   "id": "634a069b-e1d1-4bdd-925e-7594fe8dcc4d",
   "metadata": {},
   "outputs": [],
   "source": [
    "data_dir = '/n/holyscratch01/wadduwage_lab/D2NN_QPM_classification/datasets/bacteria/'\n",
    "\n",
    "device = torch.device(\"cuda:0\" if torch.cuda.is_available() else \"cpu\")\n",
    "\n",
    "n_c = cfg['n_classes']"
   ]
  },
  {
   "cell_type": "code",
   "execution_count": 6,
   "id": "34ed633c-d9f9-4f97-99f8-eb1630b75142",
   "metadata": {},
   "outputs": [
    {
     "name": "stdout",
     "output_type": "stream",
     "text": [
      "Dataset type train label type: class -> Loaded 375443 images\n",
      "Dataset type val label type: class -> Loaded 48562 images\n",
      "Dataset type test label type: class -> Loaded 48790 images\n"
     ]
    }
   ],
   "source": [
    "dataloaders = {}\n",
    "dataloaders['train'], dataloaders['val'], dataloaders['test'], dataset_sizes =  get_bacteria_dataloaders(cfg['img_size'], 32 , 10, label_type = cfg['label_type'] , balanced_mode = cfg['balanced_mode'],expand_channels = cfg['expand_channels'])\n",
    "\n",
    "class_names = [x for x in range(0, n_c)]\n",
    "\n",
    "if(n_c == 21):\n",
    "    class_names = ['Acinetobacter','B subtilis','E. coli K12','S. aureus','E. coli (CCUG17620)','E. coli (NCTC13441)','E. coli (A2-39)','K. pneumoniae (A2-23)','S. aureus (CCUG35600)','E. coli (101)','E. coli (102)','E. coli (104)','K. pneumoniae (210)','K. pneumoniae (211)','K. pneumoniae (212)','K. pneumoniae (240)','Acinetobacter K12-21','Acinetobacter K48-42','Acinetobacter K55-13','Acinetobacter K57-06','Acinetobacter K71-71']\n",
    "elif(n_c == 5):\n",
    "    class_names = ['Acinetobacter', 'B. subtilis', 'E. coli', 'K. pneumoniae', 'S. aureus']"
   ]
  },
  {
   "cell_type": "code",
   "execution_count": null,
   "id": "37c4d8af-323d-4718-af77-a116535e6a55",
   "metadata": {},
   "outputs": [],
   "source": []
  },
  {
   "cell_type": "markdown",
   "id": "13f86121-4aa8-422d-9464-a691d3f19dd6",
   "metadata": {},
   "source": [
    "### Initialize Model architecture Resnet 18"
   ]
  },
  {
   "cell_type": "code",
   "execution_count": 7,
   "id": "f6927db3-4fbc-487c-8ab8-3fc2d1ece0bd",
   "metadata": {},
   "outputs": [],
   "source": [
    "model_ft = models.resnet18(pretrained=cfg['pretrained_resnet'])\n",
    "\n",
    "num_ftrs = model_ft.fc.in_features\n",
    "\n",
    "model_ft.fc = nn.Linear(num_ftrs, n_c)\n",
    "\n",
    "model_ft = model_ft.to(device)"
   ]
  },
  {
   "cell_type": "code",
   "execution_count": 8,
   "id": "d9adf16a-d1fd-4805-84aa-602a007fd6ff",
   "metadata": {},
   "outputs": [],
   "source": [
    "criterion = nn.CrossEntropyLoss()"
   ]
  },
  {
   "cell_type": "code",
   "execution_count": 9,
   "id": "85c9d855-8a60-45f0-9077-b0ee7213636e",
   "metadata": {},
   "outputs": [
    {
     "name": "stdout",
     "output_type": "stream",
     "text": [
      "redda\n"
     ]
    }
   ],
   "source": [
    "print(\"redda\")"
   ]
  },
  {
   "cell_type": "code",
   "execution_count": 10,
   "id": "b7f8ff6f-a42a-4885-b574-391e2f0ac636",
   "metadata": {},
   "outputs": [],
   "source": [
    "model = model_ft\n",
    "model.load_state_dict(saved['state_dict']);\n",
    "model.eval();"
   ]
  },
  {
   "cell_type": "markdown",
   "id": "81bb47fc-ee6c-4ffd-a085-23ed1fdd07de",
   "metadata": {},
   "source": [
    "### Test model and send info to wandb experiment"
   ]
  },
  {
   "cell_type": "code",
   "execution_count": 11,
   "id": "a3a2e5fa-7fec-4d15-b858-ff6a84f42c6f",
   "metadata": {},
   "outputs": [
    {
     "name": "stdout",
     "output_type": "stream",
     "text": [
      "starting testing..\n",
      ".............................................................................................................................................................................................................................................................................................................................................................................................test Loss: 1.1752 Acc: 0.6354\n",
      "[0.7160256505012512, 0.69017094373703, 0.7737094759941101, 0.7289623022079468, 0.7901670932769775, 0.4383954107761383, 0.27698373794555664, 0.610784649848938, 0.8562532663345337, 0.5271790027618408, 0.3209232985973358, 0.5983606576919556, 0.7607696652412415, 0.6983705759048462, 0.6498464345932007, 0.6790123581886292, 0.7816718816757202, 0.5928603410720825, 0.29914164543151855, 0.5554474592208862, 0.5869402885437012]\n",
      "\n",
      "\n",
      "testing complete in 8m 12s\n",
      "Test Acc: 0.635355\n"
     ]
    },
    {
     "data": {
      "text/plain": [
       "[[1117,\n",
       "  88,\n",
       "  11,\n",
       "  2,\n",
       "  14,\n",
       "  32,\n",
       "  22,\n",
       "  3,\n",
       "  0,\n",
       "  15,\n",
       "  26,\n",
       "  3,\n",
       "  44,\n",
       "  7,\n",
       "  12,\n",
       "  54,\n",
       "  28,\n",
       "  9,\n",
       "  26,\n",
       "  12,\n",
       "  19],\n",
       " [104,\n",
       "  969,\n",
       "  54,\n",
       "  8,\n",
       "  20,\n",
       "  4,\n",
       "  13,\n",
       "  21,\n",
       "  0,\n",
       "  29,\n",
       "  38,\n",
       "  36,\n",
       "  5,\n",
       "  28,\n",
       "  33,\n",
       "  24,\n",
       "  46,\n",
       "  4,\n",
       "  19,\n",
       "  5,\n",
       "  6],\n",
       " [7, 33, 1289, 1, 0, 0, 0, 42, 0, 2, 12, 15, 2, 98, 52, 5, 19, 0, 0, 2, 1],\n",
       " [4, 4, 0, 1412, 4, 53, 87, 0, 274, 2, 4, 1, 55, 0, 0, 56, 0, 58, 62, 9, 27],\n",
       " [53,\n",
       "  20,\n",
       "  4,\n",
       "  0,\n",
       "  2459,\n",
       "  62,\n",
       "  97,\n",
       "  17,\n",
       "  0,\n",
       "  223,\n",
       "  318,\n",
       "  4,\n",
       "  1,\n",
       "  1,\n",
       "  0,\n",
       "  72,\n",
       "  6,\n",
       "  6,\n",
       "  49,\n",
       "  6,\n",
       "  23],\n",
       " [20, 4, 1, 30, 46, 612, 489, 0, 1, 9, 26, 0, 3, 1, 0, 73, 0, 46, 225, 6, 51],\n",
       " [43,\n",
       "  12,\n",
       "  0,\n",
       "  17,\n",
       "  89,\n",
       "  202,\n",
       "  562,\n",
       "  2,\n",
       "  0,\n",
       "  14,\n",
       "  34,\n",
       "  1,\n",
       "  0,\n",
       "  1,\n",
       "  0,\n",
       "  98,\n",
       "  7,\n",
       "  52,\n",
       "  792,\n",
       "  35,\n",
       "  28],\n",
       " [3,\n",
       "  26,\n",
       "  51,\n",
       "  2,\n",
       "  11,\n",
       "  1,\n",
       "  1,\n",
       "  1767,\n",
       "  0,\n",
       "  148,\n",
       "  44,\n",
       "  91,\n",
       "  68,\n",
       "  226,\n",
       "  81,\n",
       "  58,\n",
       "  197,\n",
       "  5,\n",
       "  5,\n",
       "  31,\n",
       "  31],\n",
       " [0, 0, 0, 209, 1, 0, 10, 0, 1650, 0, 0, 0, 0, 0, 0, 0, 0, 0, 1, 0, 0],\n",
       " [24,\n",
       "  16,\n",
       "  3,\n",
       "  1,\n",
       "  164,\n",
       "  6,\n",
       "  52,\n",
       "  96,\n",
       "  0,\n",
       "  1125,\n",
       "  165,\n",
       "  37,\n",
       "  5,\n",
       "  15,\n",
       "  0,\n",
       "  78,\n",
       "  44,\n",
       "  12,\n",
       "  15,\n",
       "  0,\n",
       "  11],\n",
       " [39,\n",
       "  58,\n",
       "  8,\n",
       "  0,\n",
       "  133,\n",
       "  7,\n",
       "  5,\n",
       "  42,\n",
       "  0,\n",
       "  271,\n",
       "  431,\n",
       "  119,\n",
       "  2,\n",
       "  8,\n",
       "  2,\n",
       "  44,\n",
       "  26,\n",
       "  0,\n",
       "  16,\n",
       "  4,\n",
       "  11],\n",
       " [5, 17, 33, 1, 5, 1, 0, 162, 0, 141, 96, 584, 0, 83, 20, 11, 16, 0, 3, 0, 2],\n",
       " [51,\n",
       "  9,\n",
       "  2,\n",
       "  59,\n",
       "  6,\n",
       "  8,\n",
       "  13,\n",
       "  28,\n",
       "  0,\n",
       "  4,\n",
       "  1,\n",
       "  0,\n",
       "  2649,\n",
       "  1,\n",
       "  27,\n",
       "  441,\n",
       "  72,\n",
       "  61,\n",
       "  25,\n",
       "  87,\n",
       "  79],\n",
       " [7, 18, 111, 0, 2, 0, 0, 393, 0, 31, 7, 50, 3, 1843, 421, 4, 46, 0, 2, 1, 13],\n",
       " [8,\n",
       "  27,\n",
       "  69,\n",
       "  1,\n",
       "  0,\n",
       "  0,\n",
       "  0,\n",
       "  61,\n",
       "  0,\n",
       "  1,\n",
       "  1,\n",
       "  12,\n",
       "  24,\n",
       "  230,\n",
       "  1481,\n",
       "  14,\n",
       "  116,\n",
       "  2,\n",
       "  2,\n",
       "  10,\n",
       "  10],\n",
       " [36,\n",
       "  21,\n",
       "  2,\n",
       "  68,\n",
       "  65,\n",
       "  114,\n",
       "  126,\n",
       "  72,\n",
       "  0,\n",
       "  45,\n",
       "  52,\n",
       "  0,\n",
       "  383,\n",
       "  4,\n",
       "  2,\n",
       "  3300,\n",
       "  107,\n",
       "  152,\n",
       "  191,\n",
       "  118,\n",
       "  149],\n",
       " [13,\n",
       "  63,\n",
       "  27,\n",
       "  1,\n",
       "  7,\n",
       "  2,\n",
       "  14,\n",
       "  118,\n",
       "  1,\n",
       "  35,\n",
       "  18,\n",
       "  17,\n",
       "  73,\n",
       "  83,\n",
       "  136,\n",
       "  133,\n",
       "  3011,\n",
       "  9,\n",
       "  23,\n",
       "  20,\n",
       "  62],\n",
       " [4,\n",
       "  6,\n",
       "  0,\n",
       "  37,\n",
       "  20,\n",
       "  60,\n",
       "  230,\n",
       "  6,\n",
       "  1,\n",
       "  7,\n",
       "  7,\n",
       "  0,\n",
       "  46,\n",
       "  1,\n",
       "  1,\n",
       "  93,\n",
       "  24,\n",
       "  1312,\n",
       "  86,\n",
       "  308,\n",
       "  254],\n",
       " [11,\n",
       "  3,\n",
       "  0,\n",
       "  28,\n",
       "  40,\n",
       "  158,\n",
       "  192,\n",
       "  2,\n",
       "  0,\n",
       "  15,\n",
       "  29,\n",
       "  0,\n",
       "  8,\n",
       "  0,\n",
       "  1,\n",
       "  132,\n",
       "  8,\n",
       "  55,\n",
       "  697,\n",
       "  16,\n",
       "  49],\n",
       " [4, 0, 0, 5, 3, 20, 10, 12, 0, 2, 4, 1, 46, 1, 4, 56, 21, 185, 14, 1142, 281],\n",
       " [7,\n",
       "  10,\n",
       "  1,\n",
       "  55,\n",
       "  23,\n",
       "  54,\n",
       "  106,\n",
       "  49,\n",
       "  0,\n",
       "  15,\n",
       "  30,\n",
       "  5,\n",
       "  65,\n",
       "  8,\n",
       "  6,\n",
       "  114,\n",
       "  58,\n",
       "  245,\n",
       "  77,\n",
       "  244,\n",
       "  1573]]"
      ]
     },
     "execution_count": 11,
     "metadata": {},
     "output_type": "execute_result"
    }
   ],
   "source": [
    "test_model(model_ft, [dataloaders, dataset_sizes, class_names] , criterion, n_classes = cfg['n_classes'] , device = device, cfg = cfg)"
   ]
  },
  {
   "cell_type": "code",
   "execution_count": null,
   "id": "66a9c9ab-6ce7-41b2-9341-e9351bf1d0f0",
   "metadata": {},
   "outputs": [],
   "source": []
  }
 ],
 "metadata": {
  "kernelspec": {
   "display_name": "fyp_env",
   "language": "python",
   "name": "fyp_env"
  },
  "language_info": {
   "codemirror_mode": {
    "name": "ipython",
    "version": 3
   },
   "file_extension": ".py",
   "mimetype": "text/x-python",
   "name": "python",
   "nbconvert_exporter": "python",
   "pygments_lexer": "ipython3",
   "version": "3.6.13"
  }
 },
 "nbformat": 4,
 "nbformat_minor": 5
}
