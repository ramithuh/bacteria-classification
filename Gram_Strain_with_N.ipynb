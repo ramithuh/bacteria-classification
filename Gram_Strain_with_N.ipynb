{
 "cells": [
  {
   "cell_type": "code",
   "execution_count": 1,
   "id": "0a8a2626-a5b7-4fb2-8808-f50eca02222b",
   "metadata": {},
   "outputs": [],
   "source": [
    "from __future__ import print_function, division\n",
    "\n",
    "import os\n",
    "import time\n",
    "import copy\n",
    "import numpy as np\n",
    "import matplotlib.pyplot as plt\n",
    "\n",
    "\n",
    "import torch\n",
    "import torch.nn as nn\n",
    "import torch.nn.functional as F\n",
    "import torch.optim as optim\n",
    "from torch.optim import lr_scheduler\n",
    "import torchvision\n",
    "from torchvision import datasets, models, transforms\n",
    "from torchsummary import summary\n",
    "from torchmetrics.classification import Accuracy\n",
    "from sklearn.metrics import confusion_matrix\n",
    "import plotly.graph_objs as go\n",
    "\n",
    "import sys\n",
    "sys.path.append('../')\n",
    "\n",
    "from modules.helpers import *\n",
    "from modules.datasets import *\n",
    "from modules.train_utils import train_model\n",
    "from modules.dataloaders import *\n",
    "from modules.test_utils import test_model"
   ]
  },
  {
   "cell_type": "markdown",
   "id": "c31ca2fc-35f1-476e-9033-7c05d1305ec6",
   "metadata": {},
   "source": [
    "### Initialize wandb and load model"
   ]
  },
  {
   "cell_type": "code",
   "execution_count": 2,
   "id": "fef89378-8c3b-41de-838a-a064f8171e4b",
   "metadata": {},
   "outputs": [],
   "source": [
    "path = \"/n/home12/ramith/FYP/bacteria-classification/results/GramStrain - Resnet 181645133407.8305595/latest_model_epoch-7.pth\"\n",
    "saved = torch.load(path)\n",
    "cfg   = saved['cfg']"
   ]
  },
  {
   "cell_type": "code",
   "execution_count": 3,
   "id": "323a7942-aa95-456e-a296-b3e0ad304191",
   "metadata": {},
   "outputs": [],
   "source": [
    "device = torch.device(\"cuda:0\" if torch.cuda.is_available() else \"cpu\")\n",
    "\n",
    "n_c = cfg['n_classes']\n",
    "\n",
    "class_names = [x for x in range(0, n_c)]\n",
    "\n",
    "if(n_c == 21):\n",
    "    class_names = ['Acinetobacter','B subtilis','E. coli K12','S. aureus','E. coli (CCUG17620)','E. coli (NCTC13441)','E. coli (A2-39)','K. pneumoniae (A2-23)','S. aureus (CCUG35600)','E. coli (101)','E. coli (102)','E. coli (104)','K. pneumoniae (210)','K. pneumoniae (211)','K. pneumoniae (212)','K. pneumoniae (240)','Acinetobacter K12-21','Acinetobacter K48-42','Acinetobacter K55-13','Acinetobacter K57-06','Acinetobacter K71-71']\n",
    "elif(n_c == 5):\n",
    "    class_names = ['Acinetobacter', 'B. subtilis', 'E. coli', 'K. pneumoniae', 'S. aureus']\n"
   ]
  },
  {
   "cell_type": "code",
   "execution_count": 4,
   "id": "06e35bcc-6243-4f5e-b19b-6c719e6c7ac7",
   "metadata": {},
   "outputs": [
    {
     "data": {
      "text/plain": [
       "{'learning_rate': 0.01,\n",
       " 'epochs': 15,\n",
       " 'pretrained_resnet': True,\n",
       " 'img_size': 224,\n",
       " 'n_classes': 2,\n",
       " 'label_type': 'gram_strain',\n",
       " 'balanced_mode': False,\n",
       " 'expand_channels': True,\n",
       " 'dataset_sizes': {'train': 375424, 'val': 48544, 'test': 48768}}"
      ]
     },
     "execution_count": 4,
     "metadata": {},
     "output_type": "execute_result"
    }
   ],
   "source": [
    "cfg"
   ]
  },
  {
   "cell_type": "code",
   "execution_count": 5,
   "id": "73bfce45-03c4-41c5-8341-c583da8711e1",
   "metadata": {},
   "outputs": [],
   "source": [
    "model_ft = models.resnet18(pretrained=cfg['pretrained_resnet'])\n",
    "\n",
    "num_ftrs = model_ft.fc.in_features\n",
    "\n",
    "model_ft.fc = nn.Linear(num_ftrs, n_c)\n",
    "\n",
    "model_ft = model_ft.to(device)"
   ]
  },
  {
   "cell_type": "code",
   "execution_count": 6,
   "id": "1e5cfdc8-35aa-4b08-aeae-777e9cd35ad8",
   "metadata": {},
   "outputs": [],
   "source": [
    "model = model_ft\n",
    "model.load_state_dict(saved['state_dict']);\n",
    "model.eval();"
   ]
  },
  {
   "cell_type": "code",
   "execution_count": null,
   "id": "e4254fdb-81ff-476c-97d4-437d6d3e481b",
   "metadata": {},
   "outputs": [],
   "source": []
  },
  {
   "cell_type": "code",
   "execution_count": null,
   "id": "db009aac-9856-42d4-ac96-d78e522ad527",
   "metadata": {},
   "outputs": [],
   "source": []
  },
  {
   "cell_type": "markdown",
   "id": "fb1cee6f-3e5b-480d-9449-78baace5f55d",
   "metadata": {},
   "source": [
    "### Initialize Class Specific Dataloaders"
   ]
  },
  {
   "cell_type": "code",
   "execution_count": 7,
   "id": "8de069d6-1fa7-434e-af21-363e031ca087",
   "metadata": {},
   "outputs": [],
   "source": [
    "data_dir = '/n/holyscratch01/wadduwage_lab/D2NN_QPM_classification/datasets/bacteria/'"
   ]
  },
  {
   "cell_type": "code",
   "execution_count": 48,
   "id": "62c3ef8b-a962-425d-91ad-f56ab1497dae",
   "metadata": {},
   "outputs": [
    {
     "name": "stdout",
     "output_type": "stream",
     "text": [
      "Dataset type train label type: gram_strain -> Loaded 375443 images\n",
      "Dataset type val label type: gram_strain -> Loaded 48562 images\n",
      "Dataset type test label type: gram_strain -> Loaded 48790 images\n",
      "=====\n",
      "Dataset type test label type: gram_strain -> All files = 48790\n",
      "Loaded 43520 images only from class 0\n",
      "=====\n",
      "Dataset type test label type: gram_strain -> All files = 48790\n",
      "Loaded 5270 images only from class 1\n"
     ]
    }
   ],
   "source": [
    "dataloaders = {}\n",
    "\n",
    "N = 63\n",
    "_, _, _, dataset_sizes =  get_bacteria_dataloaders(cfg['img_size'], N , 10, label_type = cfg['label_type'], balanced_mode = False, expand_channels = cfg['expand_channels'])\n",
    "\n",
    "\n",
    "for i in range(0, cfg['n_classes']):\n",
    "    print(\"=====\")\n",
    "    dataloaders[str(i)], _ =  get_bacteria_eval_dataloaders(cfg['img_size'], N , 10, label_type = cfg['label_type'] ,expand_channels = cfg['expand_channels'], isolate_class = i)\n"
   ]
  },
  {
   "cell_type": "code",
   "execution_count": 49,
   "id": "b23e48d7-8a46-49b7-a4d7-79f13529a852",
   "metadata": {},
   "outputs": [],
   "source": [
    "dataset_sizes['test'] = dataset_sizes['test']/N"
   ]
  },
  {
   "cell_type": "code",
   "execution_count": 50,
   "id": "115e0f50-5c8f-4556-bc33-c6ab7f46c6b9",
   "metadata": {},
   "outputs": [],
   "source": [
    "# for inputs, labels in dataloaders[\"1\"]:\n",
    "#     print(\".\", end = '')\n",
    "\n",
    "#     inputs = inputs.to(device,dtype=torch.float)\n",
    "#     labels = labels.to(device)\n",
    "\n",
    "#     outputs = model(inputs)\n",
    "#     _, preds = torch.max(outputs, 1)\n",
    "    \n",
    "#     print(preds)\n",
    "#     print(torch.mode(preds,0)[0])\n",
    "#     print(torch.mode(labels,0)[0])\n",
    "    \n",
    "#     break"
   ]
  },
  {
   "cell_type": "code",
   "execution_count": 51,
   "id": "02cbf7d0-1641-4e1a-a2a2-125cc811756a",
   "metadata": {},
   "outputs": [],
   "source": [
    "\n",
    "criterion = nn.CrossEntropyLoss()"
   ]
  },
  {
   "cell_type": "code",
   "execution_count": 52,
   "id": "4610abc7-96f0-4e6f-a4df-bfce7c92ef73",
   "metadata": {},
   "outputs": [
    {
     "data": {
      "text/plain": [
       "{'train': 375417, 'val': 48544, 'test': 774.0952380952381}"
      ]
     },
     "execution_count": 52,
     "metadata": {},
     "output_type": "execute_result"
    }
   ],
   "source": [
    "dataset_sizes"
   ]
  },
  {
   "cell_type": "code",
   "execution_count": 53,
   "id": "0d91588b-feb5-48bc-bf07-04183d7b33d5",
   "metadata": {},
   "outputs": [],
   "source": [
    "from modules.test_utils import test_model_in_groups"
   ]
  },
  {
   "cell_type": "code",
   "execution_count": 54,
   "id": "297d75af-2cd5-4d98-b84b-340104f35e73",
   "metadata": {},
   "outputs": [
    {
     "name": "stdout",
     "output_type": "stream",
     "text": [
      "starting group testing..\n",
      "New class eval - 0\n",
      "New class eval - 1\n",
      "test Loss: 6.3536 Acc: 0.9986\n",
      "[1.0, 1.0]\n",
      "\n",
      "testing complete in 3m 15s\n",
      "Test Acc: 0.998585\n"
     ]
    },
    {
     "data": {
      "text/plain": [
       "[[690, 0], [0, 83]]"
      ]
     },
     "execution_count": 54,
     "metadata": {},
     "output_type": "execute_result"
    }
   ],
   "source": [
    "test_model_in_groups(model_ft, [dataloaders, dataset_sizes, class_names] , criterion, n_classes = cfg['n_classes'] , device = device, cfg = cfg)"
   ]
  },
  {
   "cell_type": "code",
   "execution_count": 55,
   "id": "4879b731-69d2-4de0-aa12-e9248bc89e7f",
   "metadata": {},
   "outputs": [],
   "source": [
    "# for inputs, labels in dataloaders[str(0)]: #take a batch of data from each class\n",
    "#     print(\".\", end = '')\n",
    "\n",
    "#     inputs = inputs.to(device,dtype=torch.float)\n",
    "#     labels = labels.to(device)\n",
    "\n",
    "#     outputs = model(inputs)\n",
    "#     _, preds = torch.max(outputs, 1)\n",
    "#     loss = criterion(outputs, labels)\n",
    "\n",
    "#     preds = torch.mode(preds, 0)[0]\n",
    "#     preds = torch.reshape(preds, (-1,))\n",
    "    \n",
    "#     labels = torch.mode(labels, 0)[0]\n",
    "#     labels = torch.reshape(labels, (-1,))\n",
    "#     print(preds)\n",
    "#     print(labels)\n",
    "#     break"
   ]
  },
  {
   "cell_type": "code",
   "execution_count": 56,
   "id": "f9e5d31c-2e0c-4a1b-9111-72cd9bad0f89",
   "metadata": {},
   "outputs": [],
   "source": [
    "# g = torch.Tensor(1)"
   ]
  },
  {
   "cell_type": "code",
   "execution_count": null,
   "id": "dcad3bb6-9d0e-4790-9228-8522999cbd65",
   "metadata": {},
   "outputs": [],
   "source": []
  },
  {
   "cell_type": "code",
   "execution_count": null,
   "id": "1098acbf-ba2b-46c8-a26a-dc7d81550a1c",
   "metadata": {},
   "outputs": [],
   "source": []
  },
  {
   "cell_type": "code",
   "execution_count": null,
   "id": "1dcec376-9def-492f-a041-8d8a70aca1ee",
   "metadata": {},
   "outputs": [],
   "source": []
  },
  {
   "cell_type": "code",
   "execution_count": null,
   "id": "57390bd1-3576-4d91-9a92-d9e87708a7ea",
   "metadata": {},
   "outputs": [],
   "source": []
  },
  {
   "cell_type": "code",
   "execution_count": null,
   "id": "4e80d9fc-2f87-494e-beeb-44a709363c05",
   "metadata": {},
   "outputs": [],
   "source": []
  }
 ],
 "metadata": {
  "kernelspec": {
   "display_name": "fyp_env",
   "language": "python",
   "name": "fyp_env"
  },
  "language_info": {
   "codemirror_mode": {
    "name": "ipython",
    "version": 3
   },
   "file_extension": ".py",
   "mimetype": "text/x-python",
   "name": "python",
   "nbconvert_exporter": "python",
   "pygments_lexer": "ipython3",
   "version": "3.6.13"
  }
 },
 "nbformat": 4,
 "nbformat_minor": 5
}
